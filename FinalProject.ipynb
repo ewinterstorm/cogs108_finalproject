{
 "cells": [
  {
   "cell_type": "markdown",
   "metadata": {},
   "source": [
    "# COGS 108 - Final Project "
   ]
  },
  {
   "cell_type": "markdown",
   "metadata": {},
   "source": [
    "# Overview"
   ]
  },
  {
   "cell_type": "markdown",
   "metadata": {},
   "source": [
    "As a group, we wanted to dig deeper into whether or not there was any association between income inequality and the level of crime experienced in different cities in the United States. As we explored our data and applied tests to said data, we saw that there was indeed a difference in crime rates between areas that did versus did not experience income inequality. However, upon further testing, we saw that the correlation between income inequality and crime was quite weak, making income inequality a weak predictor for crime index."
   ]
  },
  {
   "cell_type": "markdown",
   "metadata": {},
   "source": [
    "# Names\n",
    "\n",
    "- Jaclyn Chin\n",
    "- Elisa Lau\n",
    "- Samuel Parker\n",
    "- Elise Wong\n",
    "- Fiona Wong"
   ]
  },
  {
   "cell_type": "markdown",
   "metadata": {},
   "source": [
    "###### Group Members IDs\n",
    "\n",
    "- A14579160\n",
    "- A12764321\n",
    "- A13665511\n",
    "- A13026941\n",
    "- A13779845"
   ]
  },
  {
   "cell_type": "markdown",
   "metadata": {},
   "source": [
    "# Research Question"
   ]
  },
  {
   "cell_type": "markdown",
   "metadata": {},
   "source": [
    "We want to shed light on the effects of economic inequality on society, and see if it has any effect on crime rates. We can tackle this topic from a data science perspective by narrowing down the question a bit more. The data science question we are asking is the following:  What is the correlation between street crime and economic inequality in the US? \n",
    "    \n",
    "There are some important things to note about how we defined our terms. Firstly, the kind of crime we are looking at includes forms of violent crime and street crime - things like muggings, theft, and perhaps even murder. We are not currently interested in things like speeding or white collar crime.\n",
    "\n",
    "Secondly, we are looking at economic inequality, not poverty. While it is fairly obvious that poverty and crime are related (with desperation comes drastic measures), we are trying to tease out the effect of income inequality in and of itself. It could be that inequality contributes to the disintegration of communities and crime in a fashion that is independent from the sheer effect of poverty.  Perhaps one community might have more crime in it than another even though they both have similar levels of poverty, due to the fact that the one community has a substantial level of inequality. Indeed, it’s possible that an unequally distributed increase in wealth could catalyze an upswing in crime. This will no doubt require close inspection to properly disambiguate the effects of poverty from the effects of inequality."
   ]
  },
  {
   "cell_type": "markdown",
   "metadata": {},
   "source": [
    "## Background and Prior Work"
   ]
  },
  {
   "cell_type": "markdown",
   "metadata": {},
   "source": [
    "Due to developments in our current political climate, discussion about the harms of income inequality has become increasingly prevalent. Popular politicians such as Alexandria Ocasio-Cortez and Bernie Sanders have shined the floodlights on the glaring cleft that lies between the richest Americans and the rest of us.  A quick look at the numbers will show that the divide between rich and poor is growing in this country (1). With the advent of this apparent fact, many have begun researching the various ways in which increased income inequality affects society. \n",
    "\n",
    "We’re not the first group of people  to investigate the relationship between crime and income inequality. According to David Luther from Zippia, in 2016, the FBI released crime rate statistics that showed correlation between city crime and income inequality (2). The study looks at FBI data about property crime and violent crime and concluded that income inequality correlates the strongest with crime compared to other variables such as unemployment, poverty, and number of high school graduates where there was only weak correlation. In this paper, the results also show that robbery and burglary in the US are strongly affected by income inequality (3). On a larger scale, this journal article also describes how violent crime and income inequality are positively correlated when looking at different countries (4).\n",
    "\n",
    "We can add something of value to the larger conversation by getting a better idea of exactly what kinds of crime interact with economic inequality. Rather than look at an aggregate of property and violent crimes, we want to look at the specific types of crimes that might correlate with income inequality in the United States. Types of crime we are interested in investigating include assault, robbery, arson, rape, and hate crimes. In terms of income inequality, we can also look at the different types of ways that income inequality is measured to give more context to our findings. For instance, looking at the mean, median, and standard deviation of income for each location and taking into account the state Gini index (discussed more in the Data section below).\n",
    "\n",
    "References (include links):\n",
    "- 1) U.S. Income Inequality: Facts, Causes, Solutions: https://www.thebalance.com/income-inequality-in-america-3306190\n",
    "- 2) New FBI Data Correlates City Crime to Income Inequality: https://www.zippia.com/advice/crime-income-inequality/\n",
    "- 3) Income inequality and crime in the United States: https://www.researchgate.net/publication/23648005_Income_inequality_and_crime_in_the_United_States\n",
    "- 4) Inequality and Violent Crime: https://www.jstor.org/stable/10.1086/338347?seq=1#page_scan_tab_contents"
   ]
  },
  {
   "cell_type": "markdown",
   "metadata": {},
   "source": [
    "# Hypothesis\n"
   ]
  },
  {
   "cell_type": "markdown",
   "metadata": {},
   "source": [
    "We expect to find a positive correlation between the rate of street crime and economic inequality in the US. There are news articles all over the internet that speculate about this particular correlation. It is a relationship that governments, organizations, economists, and sociologists have all studied a fair amount. In particular, as stated in the NYU Dispatch’s article “How big is income inequality as a determinant of crime rates?” from May 23, 2018, “[a] 2002 study by The World Bank found that crime rates and inequality are positively correlated, and an increase in income inequality has the effect of intensely increasing crime rates.”"
   ]
  },
  {
   "cell_type": "markdown",
   "metadata": {},
   "source": [
    "# Dataset(s)"
   ]
  },
  {
   "cell_type": "markdown",
   "metadata": {},
   "source": [
    "# instructions\n",
    "*Fill in your dataset information here*\n",
    "\n",
    "(Copy this information for each dataset)\n",
    "- Dataset Name:\n",
    "- Link to the dataset:\n",
    "- Number of observations:\n",
    "\n",
    "1-2 sentences describing each dataset. \n",
    "\n",
    "If you plan to use multiple datasets, add 1-2 sentences about how you plan to combine these datasets."
   ]
  },
  {
   "cell_type": "markdown",
   "metadata": {},
   "source": [
    "### Household Income Dataset\n",
    "\n",
    "# SAM'S DATASCRAPING"
   ]
  },
  {
   "cell_type": "markdown",
   "metadata": {},
   "source": [
    "### US Crime Dataset\n",
    "- Dataset Name: UScrime_scraped.csv\n",
    "- Link to the dataset: http://www.city-data.com/crime/index.html\n",
    "- Number of observations: 9865\n",
    "\n",
    "The data on US city crime was web scraped from City-Data which uses data from public records and agencies. Data for 9865 cities was scraped and 19 features for each city were collected (city, state, murders, rapes, burglarys, assaults, crime index, and more). There are total numbers of crimes committed per city, crimes per 100,000 population, and a crime index which is a value that gives more weight to certain crimes (for instance murder is weighted more heavliy than assault)."
   ]
  },
  {
   "cell_type": "markdown",
   "metadata": {},
   "source": [
    "### Web Scraping for US Crime Data"
   ]
  },
  {
   "cell_type": "code",
   "execution_count": null,
   "metadata": {},
   "outputs": [],
   "source": [
    "# Create empty arrays to fill with data\n",
    "city = []\n",
    "state = []\n",
    "murders = []\n",
    "murdersper = []\n",
    "rapes = []\n",
    "rapesper = []\n",
    "robberies = []\n",
    "robberiesper = []\n",
    "assaults = []\n",
    "assaultsper = []\n",
    "burglaries = []\n",
    "burglariesper = []\n",
    "thefts = []\n",
    "theftsper = []\n",
    "auto_thefts = []\n",
    "auto_theftsper = []\n",
    "arsons = []\n",
    "arsonsper = []\n",
    "crime_index = []\n",
    "\n",
    "# Array for city links while scraping each state\n",
    "links = []\n",
    "\n",
    "# No crime data for Hawaii\n",
    "# States with only one link\n",
    "states = ['Alaska', 'Alabama', 'Arkansas', 'Arizona', 'Colorado', 'Connecticut', 'Delaware', 'Iowa', 'Idaho',\n",
    "          'Indiana', 'Kansas', 'Kentucky', 'Louisiana', 'Maine', 'Maryland', 'Massachusetts',  'Minnesota', \n",
    "          'Mississippi',  'Montana', 'Nebraska', 'Nevada', 'New-Hampshire',  'New-Mexico', 'North-Carolina', \n",
    "          'North-Dakota',  'Oklahoma', 'Oregon','Rhode-Island', 'South-Carolina', 'South-Dakota', 'Tennessee',\n",
    "          'Utah','Vermont', 'Virginia', 'Washington', 'West-Virginia', 'Wyoming']\n",
    "\n",
    "# States with multiple links\n",
    "multstates = ['California', 'California2','Florida' , 'Florida2','Georgia', 'Georgia2', 'Illinois','Illinois2', \n",
    "              'Illinois3', 'Illinois4' , 'Michigan', 'Michigan2', 'Missouri', 'Missouri2','New-Jersey', \n",
    "              'New-Jersey2', 'New-York', 'New-York2','Ohio', 'Ohio2', 'Pennsylvania','Pennsylvania2', \n",
    "              'Pennsylvania3', 'Texas','Texas2', 'Texas3', 'Wisconsin', 'Wisconsin2']\n",
    "\n",
    "# Loop through all of the states (this was done in two parts with states and multstates)\n",
    "for currstate in multstates:\n",
    "    # Make a get request\n",
    "    response = rq.get('http://www.city-data.com/crime/crime-' + currstate + '.html', proxies=proxies)\n",
    "\n",
    "    # Get the html for the state page\n",
    "    page_html = bsoup(response.text, 'html.parser')\n",
    "\n",
    "    # Get the names for all of the cities and put them into a list\n",
    "    lstcities = page_html.find(id = 'content')\n",
    "    list(lstcities.children)\n",
    "    lstref = list(lstcities.children)[7]\n",
    "    list(lstref.children)\n",
    "\n",
    "    # Create list with all html links for each city\n",
    "    for link in lstref.find_all('a'):\n",
    "        links.append(link.get('href'))\n",
    "\n",
    "for citylink in links:\n",
    "    # Make a get request\n",
    "    cityresponse = rq.get('http://www.city-data.com/crime/' + citylink, proxies=proxies)\n",
    "    # Sleep for a random time between loops so website does not get spammed\n",
    "    time.sleep(random.randint(8,15))\n",
    "    \n",
    "    # Get the html for the city and find the crime data we want (types of crime, crime per 100k people, crime index)\n",
    "    crimesoup = bsoup(cityresponse.text, 'html.parser')\n",
    "    crimehtml = list(crimesoup.children)[2]\n",
    "    crimebody = list(crimehtml.children)[3]\n",
    "    crimeol = list(crimebody.children)[9] \n",
    "    crimeli = list(crimeol.children)[9]\n",
    "\n",
    "    # Get city and state name\n",
    "    citystate = crimeli.get_text()\n",
    "    citystate = citystate.split(',')\n",
    "    citya = citystate[0]\n",
    "    currcity = citya.replace('Crime rate in ', '')\n",
    "    city.append(currcity)\n",
    "    statea = citystate[1]\n",
    "    stateb = statea.split('(')\n",
    "    state.append(stateb[0].strip())\n",
    "    \n",
    "    # Find the crime table\n",
    "    table = crimesoup.find(id=\"crimeTab\")\n",
    "    b = list(table.children)[5]\n",
    "    \n",
    "    # Find murder numbers\n",
    "    murd = list(b.children)[1]\n",
    "    c = 0\n",
    "    for i in list(murd.children):\n",
    "        c = c+1\n",
    "    murdnum = list(murd.children)[c-1]\n",
    "\n",
    "    # Find numbers for total murders in 2017 and murders per 100,000 people\n",
    "    d = 0\n",
    "    for j in list(murdnum.children):\n",
    "        d = d+1\n",
    "    if (d == 1):\n",
    "        murders.append(float('NaN'))\n",
    "        murdersper.append(float('NaN'))\n",
    "    else:\n",
    "        murdtotal = int(list(murdnum.children)[0].replace(',', ''))\n",
    "        murdper = list(list(murdnum.children)[2])[0]\n",
    "        murdper = murdper[1:]\n",
    "        murdper = float(murdper[:-1].replace(',', ''))\n",
    "        murders.append(murdtotal)\n",
    "        murdersper.append(murdper)\n",
    "\n",
    "    # Get rape numbers\n",
    "    ra = list(b.children)[3]\n",
    "    ranum = list(ra.children)[c-1]\n",
    "    d = 0\n",
    "    for j in list(ranum.children):\n",
    "        d = d+1\n",
    "    if (d == 1):\n",
    "        rapes.append(float('NaN'))\n",
    "        rapesper.append(float('NaN'))\n",
    "    else:\n",
    "        # Get numbers for total rapes in 2017 and rapes per 100,000 people\n",
    "        ratotal = int(list(ranum.children)[0].replace(',', ''))\n",
    "        raper = list(list(ranum.children)[2])[0]\n",
    "        raper = raper[1:]\n",
    "        raper = float(raper[:-1].replace(',', ''))\n",
    "        rapes.append(ratotal)\n",
    "        rapesper.append(raper)\n",
    "    \n",
    "    # Get robbery numbers\n",
    "    rob = list(b.children)[5]\n",
    "    robnum = list(rob.children)[c-1]\n",
    "    \n",
    "    d = 0\n",
    "    for j in list(robnum.children):\n",
    "        d = d+1\n",
    "    if (d == 1):\n",
    "        robberies.append(float('NaN'))\n",
    "        robberiesper.append(float('NaN'))\n",
    "    else:\n",
    "        # Get numbers for total robberies in 2017 and robberies per 100,000 people\n",
    "        robtotal = int(list(robnum.children)[0].replace(',', ''))\n",
    "        robper = list(list(robnum.children)[2])[0]\n",
    "        robper = robper[1:]\n",
    "        robper = float(robper[:-1].replace(',', ''))\n",
    "        robberies.append(robtotal)\n",
    "        robberiesper.append(robper)\n",
    "        \n",
    "    # Get assault numbers\n",
    "    assau = list(b.children)[7]\n",
    "    assaunum = list(assau.children)[c-1]\n",
    "    d = 0\n",
    "    for j in list(assaunum.children):\n",
    "        d = d+1\n",
    "    if (d == 1):\n",
    "        assaults.append(float('NaN'))\n",
    "        assaultsper.append(float('NaN'))\n",
    "    else:\n",
    "        # Get numbers for total assaults in 2017 and assaults per 100,000 people\n",
    "        assautotal = int(list(assaunum.children)[0].replace(',', ''))\n",
    "        assauper = list(list(assaunum.children)[2])[0]\n",
    "        assauper = assauper[1:]\n",
    "        assauper = float(assauper[:-1].replace(',', ''))\n",
    "        assaults.append(assautotal)\n",
    "        assaultsper.append(assauper)\n",
    "    \n",
    "    # Get burlgary numbers\n",
    "    bur = list(b.children)[9]\n",
    "    burgnum = list(bur.children)[c-1]\n",
    "    d = 0\n",
    "    for j in list(burgnum.children):\n",
    "        d = d+1\n",
    "    if (d == 1):\n",
    "        burglaries.append(float('NaN'))\n",
    "        burglariesper.append(float('NaN'))\n",
    "    else:\n",
    "        # Get numbers for total burglaries in 2017 and burglaries per 100,000 people\n",
    "        burgtotal = int(list(burgnum.children)[0].replace(',', ''))\n",
    "        burgper = list(list(burgnum.children)[2])[0]\n",
    "        burgper = burgper[1:]\n",
    "        burgper = float(burgper[:-1].replace(',', ''))\n",
    "        burglaries.append(burgtotal)\n",
    "        burglariesper.append(burgper)\n",
    "        \n",
    "    # Get theft numbers\n",
    "    thef = list(b.children)[11]\n",
    "    theftnum = list(thef.children)[c-1]\n",
    "    d = 0\n",
    "    for j in list(theftnum.children):\n",
    "        d = d+1\n",
    "    if (d == 1):\n",
    "        thefts.append(float('NaN'))\n",
    "        theftsper.append(float('NaN'))\n",
    "    else:\n",
    "        # Get numbers for total thefts in 2017 and thefts per 100,000 people\n",
    "        thefttotal = int(list(theftnum.children)[0].replace(',', ''))\n",
    "        theftper = list(list(theftnum.children)[2])[0]\n",
    "        theftper = theftper[1:]\n",
    "        theftper = float(theftper[:-1].replace(',', ''))\n",
    "        thefts.append(thefttotal)\n",
    "        theftsper.append(theftper)\n",
    "        \n",
    "    # Get auto theft numbers\n",
    "    authef = list(b.children)[13]\n",
    "    autotheftnum = list(authef.children)[c-1]\n",
    "    d = 0\n",
    "    for j in list(autotheftnum.children):\n",
    "        d = d+1\n",
    "    if (d == 1):\n",
    "        auto_thefts.append(float('NaN'))\n",
    "        auto_theftsper.append(float('NaN'))\n",
    "    else:\n",
    "        # Get numbers for total auto thefts in 2017 and auto thefts per 100,000 people\n",
    "        autothefttotal = int(list(autotheftnum.children)[0].replace(',', ''))\n",
    "        autotheftper = list(list(autotheftnum.children)[2])[0]\n",
    "        autotheftper = autotheftper[1:]\n",
    "        autotheftper = float(autotheftper[:-1].replace(',', ''))\n",
    "        auto_thefts.append(autothefttotal)\n",
    "        auto_theftsper.append(autotheftper)\n",
    "    \n",
    "    # Get arson numbers\n",
    "    ar = list(b.children)[15]\n",
    "    arsonnum = list(ar.children)[c-1]\n",
    "    d = 0\n",
    "    for j in list(arsonnum.children):\n",
    "        d = d+1\n",
    "    if (d == 1):\n",
    "        arsons.append(float('NaN'))\n",
    "        arsonsper.append(float('NaN'))\n",
    "    else:\n",
    "        # Get numbers for total arsons in 2017 and arsons per 100,000 people\n",
    "        arsontotal = int(list(arsonnum.children)[0].replace(',', ''))\n",
    "        arsonper = list(list(arsonnum.children)[2])[0]\n",
    "        arsonper = arsonper[1:]\n",
    "        arsonper = float(arsonper[:-1].replace(',', ''))\n",
    "        arsons.append(arsontotal)\n",
    "        arsonsper.append(arsonper)\n",
    "    \n",
    "    # Get crime index numbers\n",
    "    cind = list(b.children)[17]\n",
    "    cindnum = list(cind.children)[0]\n",
    "    d = 0\n",
    "    for j in list(cindnum.children):\n",
    "        d = d+1\n",
    "    crate = list(cindnum.children)[d-1]\n",
    "    crimeind = float(list(crate.children)[0])\n",
    "    crime_index.append(crimeind)\n",
    "\n",
    "# Create a dataframe with all of the crime data collected\n",
    "crime = pd.DataFrame({\n",
    "        'city': city,\n",
    "        'state': state,\n",
    "        'murders': murders,\n",
    "        'murdersper100k': murdersper,\n",
    "        'rapes': rapes,\n",
    "        'rapesper100k': rapesper,\n",
    "        'robberies': robberies,\n",
    "        'robberiesper100k': robberiesper,\n",
    "        'assaults': assaults,\n",
    "        'assaultsper100k': assaultsper,\n",
    "        'burglaries': burglaries,\n",
    "        'burglariesper100k': burglariesper,\n",
    "        'thefts': thefts,\n",
    "        'theftsper100k': theftsper,\n",
    "        'autothefts': auto_thefts,\n",
    "        'autotheftsper100k': auto_theftsper,\n",
    "        'arson': arsons,\n",
    "        'arsonper100k': arsonsper,\n",
    "        'crime index': crime_index\n",
    "    })\n",
    "crime\n",
    "\n",
    "# Export the crime dataframe as a csv file\n",
    "crime.to_csv('crime_scrapingmultstates4.csv')"
   ]
  },
  {
   "cell_type": "markdown",
   "metadata": {},
   "source": [
    "### Gini Index Dataset\n",
    "\n",
    "- Dataset Name: city_gini_index.csv\n",
    "- Link to the dataset: https://factfinder.census.gov/faces/tableservices/jsf/pages/productview.xhtml?pid=ACS_17_5YR_B19083&prodType=table\n",
    "- Number of observations: 3573\n",
    "\n",
    "The Gini Index Dataset was downloaded from American Fact Finder which allows users to search for datasets colleted by the United States Census Bureau. The data is from the 2017 American Community Survey and it has 3573 cities with their ID, location, estimated Gini Index, and margin of error. The Gini Index dataset is used as supplementary data to the household income dataset."
   ]
  },
  {
   "cell_type": "markdown",
   "metadata": {},
   "source": [
    "We plan to combine the crime and household datasets by merging them based on city and state values. The Gini Index dataset will also be combined with the crime dataset based on city and state."
   ]
  },
  {
   "cell_type": "markdown",
   "metadata": {},
   "source": [
    "# Setup"
   ]
  },
  {
   "cell_type": "code",
   "execution_count": 1,
   "metadata": {},
   "outputs": [],
   "source": [
    "# Import libraries\n",
    "import time\n",
    "import random\n",
    "from bs4 import BeautifulSoup as bsoup\n",
    "import requests as rq\n",
    "import re\n",
    "import sys\n",
    "import numpy as np\n",
    "import pandas as pd\n",
    "import seaborn as sns\n",
    "import matplotlib.pyplot as plt\n",
    "import sklearn\n",
    "import patsy\n",
    "import statsmodels.api as sm\n",
    "import scipy.stats as stats\n",
    "from scipy.stats import ttest_ind, chisquare, normaltest\n",
    "from sklearn import preprocessing\n",
    "\n",
    "# Don't display too many rows/cols of DataFrames\n",
    "pd.options.display.max_rows = 7\n",
    "pd.options.display.max_columns = 10"
   ]
  },
  {
   "cell_type": "markdown",
   "metadata": {},
   "source": [
    "# Data Cleaning"
   ]
  },
  {
   "cell_type": "code",
   "execution_count": 2,
   "metadata": {},
   "outputs": [
    {
     "data": {
      "text/html": [
       "<div>\n",
       "<style scoped>\n",
       "    .dataframe tbody tr th:only-of-type {\n",
       "        vertical-align: middle;\n",
       "    }\n",
       "\n",
       "    .dataframe tbody tr th {\n",
       "        vertical-align: top;\n",
       "    }\n",
       "\n",
       "    .dataframe thead th {\n",
       "        text-align: right;\n",
       "    }\n",
       "</style>\n",
       "<table border=\"1\" class=\"dataframe\">\n",
       "  <thead>\n",
       "    <tr style=\"text-align: right;\">\n",
       "      <th></th>\n",
       "      <th>Unnamed: 0</th>\n",
       "      <th>city</th>\n",
       "      <th>state</th>\n",
       "      <th>murders</th>\n",
       "      <th>murdersper100k</th>\n",
       "      <th>...</th>\n",
       "      <th>autothefts</th>\n",
       "      <th>autotheftsper100k</th>\n",
       "      <th>arson</th>\n",
       "      <th>arsonper100k</th>\n",
       "      <th>crime index</th>\n",
       "    </tr>\n",
       "  </thead>\n",
       "  <tbody>\n",
       "    <tr>\n",
       "      <th>0</th>\n",
       "      <td>0</td>\n",
       "      <td>Abbeville</td>\n",
       "      <td>Alabama</td>\n",
       "      <td>0.0</td>\n",
       "      <td>0.0</td>\n",
       "      <td>...</td>\n",
       "      <td>6.0</td>\n",
       "      <td>231.7</td>\n",
       "      <td>NaN</td>\n",
       "      <td>NaN</td>\n",
       "      <td>265.3</td>\n",
       "    </tr>\n",
       "    <tr>\n",
       "      <th>1</th>\n",
       "      <td>1</td>\n",
       "      <td>Adamsville</td>\n",
       "      <td>Alabama</td>\n",
       "      <td>1.0</td>\n",
       "      <td>23.1</td>\n",
       "      <td>...</td>\n",
       "      <td>15.0</td>\n",
       "      <td>346.1</td>\n",
       "      <td>NaN</td>\n",
       "      <td>NaN</td>\n",
       "      <td>468.4</td>\n",
       "    </tr>\n",
       "    <tr>\n",
       "      <th>2</th>\n",
       "      <td>2</td>\n",
       "      <td>Addison</td>\n",
       "      <td>Alabama</td>\n",
       "      <td>0.0</td>\n",
       "      <td>0.0</td>\n",
       "      <td>...</td>\n",
       "      <td>2.0</td>\n",
       "      <td>271.0</td>\n",
       "      <td>NaN</td>\n",
       "      <td>NaN</td>\n",
       "      <td>117.9</td>\n",
       "    </tr>\n",
       "    <tr>\n",
       "      <th>...</th>\n",
       "      <td>...</td>\n",
       "      <td>...</td>\n",
       "      <td>...</td>\n",
       "      <td>...</td>\n",
       "      <td>...</td>\n",
       "      <td>...</td>\n",
       "      <td>...</td>\n",
       "      <td>...</td>\n",
       "      <td>...</td>\n",
       "      <td>...</td>\n",
       "      <td>...</td>\n",
       "    </tr>\n",
       "    <tr>\n",
       "      <th>9862</th>\n",
       "      <td>9862</td>\n",
       "      <td>Torrington</td>\n",
       "      <td>Wyoming</td>\n",
       "      <td>0.0</td>\n",
       "      <td>0.0</td>\n",
       "      <td>...</td>\n",
       "      <td>3.0</td>\n",
       "      <td>44.6</td>\n",
       "      <td>0.0</td>\n",
       "      <td>0.0</td>\n",
       "      <td>91.5</td>\n",
       "    </tr>\n",
       "    <tr>\n",
       "      <th>9863</th>\n",
       "      <td>9863</td>\n",
       "      <td>Wheatland</td>\n",
       "      <td>Wyoming</td>\n",
       "      <td>0.0</td>\n",
       "      <td>0.0</td>\n",
       "      <td>...</td>\n",
       "      <td>7.0</td>\n",
       "      <td>194.3</td>\n",
       "      <td>0.0</td>\n",
       "      <td>0.0</td>\n",
       "      <td>117.2</td>\n",
       "    </tr>\n",
       "    <tr>\n",
       "      <th>9864</th>\n",
       "      <td>9864</td>\n",
       "      <td>Worland</td>\n",
       "      <td>Wyoming</td>\n",
       "      <td>0.0</td>\n",
       "      <td>0.0</td>\n",
       "      <td>...</td>\n",
       "      <td>3.0</td>\n",
       "      <td>56.7</td>\n",
       "      <td>0.0</td>\n",
       "      <td>0.0</td>\n",
       "      <td>118.4</td>\n",
       "    </tr>\n",
       "  </tbody>\n",
       "</table>\n",
       "<p>9865 rows × 20 columns</p>\n",
       "</div>"
      ],
      "text/plain": [
       "      Unnamed: 0        city    state  murders  murdersper100k     ...       \\\n",
       "0              0   Abbeville  Alabama      0.0             0.0     ...        \n",
       "1              1  Adamsville  Alabama      1.0            23.1     ...        \n",
       "2              2     Addison  Alabama      0.0             0.0     ...        \n",
       "...          ...         ...      ...      ...             ...     ...        \n",
       "9862        9862  Torrington  Wyoming      0.0             0.0     ...        \n",
       "9863        9863   Wheatland  Wyoming      0.0             0.0     ...        \n",
       "9864        9864     Worland  Wyoming      0.0             0.0     ...        \n",
       "\n",
       "      autothefts  autotheftsper100k  arson  arsonper100k  crime index  \n",
       "0            6.0              231.7    NaN           NaN        265.3  \n",
       "1           15.0              346.1    NaN           NaN        468.4  \n",
       "2            2.0              271.0    NaN           NaN        117.9  \n",
       "...          ...                ...    ...           ...          ...  \n",
       "9862         3.0               44.6    0.0           0.0         91.5  \n",
       "9863         7.0              194.3    0.0           0.0        117.2  \n",
       "9864         3.0               56.7    0.0           0.0        118.4  \n",
       "\n",
       "[9865 rows x 20 columns]"
      ]
     },
     "execution_count": 2,
     "metadata": {},
     "output_type": "execute_result"
    }
   ],
   "source": [
    "# Load crime data\n",
    "df_crime = pd.read_csv('UScrime_scraped.csv')\n",
    "df_crime"
   ]
  },
  {
   "cell_type": "code",
   "execution_count": 3,
   "metadata": {},
   "outputs": [
    {
     "data": {
      "text/html": [
       "<div>\n",
       "<style scoped>\n",
       "    .dataframe tbody tr th:only-of-type {\n",
       "        vertical-align: middle;\n",
       "    }\n",
       "\n",
       "    .dataframe tbody tr th {\n",
       "        vertical-align: top;\n",
       "    }\n",
       "\n",
       "    .dataframe thead th {\n",
       "        text-align: right;\n",
       "    }\n",
       "</style>\n",
       "<table border=\"1\" class=\"dataframe\">\n",
       "  <thead>\n",
       "    <tr style=\"text-align: right;\">\n",
       "      <th></th>\n",
       "      <th>Unnamed: 0</th>\n",
       "      <th>place</th>\n",
       "      <th>percentile</th>\n",
       "      <th>income</th>\n",
       "      <th>percent</th>\n",
       "    </tr>\n",
       "  </thead>\n",
       "  <tbody>\n",
       "    <tr>\n",
       "      <th>0</th>\n",
       "      <td>0</td>\n",
       "      <td>https://statisticalatlas.com/place/Alabama/Ala...</td>\n",
       "      <td>95th</td>\n",
       "      <td>0    177,359.000000\\rdtype: object</td>\n",
       "      <td>0    241.881\\rdtype: object</td>\n",
       "    </tr>\n",
       "    <tr>\n",
       "      <th>1</th>\n",
       "      <td>1</td>\n",
       "      <td>https://statisticalatlas.com/place/Alabama/Ala...</td>\n",
       "      <td>80th</td>\n",
       "      <td>0    122,176.000000\\rdtype: object</td>\n",
       "      <td>0    166.623\\rdtype: object</td>\n",
       "    </tr>\n",
       "    <tr>\n",
       "      <th>2</th>\n",
       "      <td>2</td>\n",
       "      <td>https://statisticalatlas.com/place/Alabama/Ala...</td>\n",
       "      <td>60th</td>\n",
       "      <td>0    85,277.000000\\rdtype: object</td>\n",
       "      <td>0    116.300\\rdtype: object</td>\n",
       "    </tr>\n",
       "    <tr>\n",
       "      <th>...</th>\n",
       "      <td>...</td>\n",
       "      <td>...</td>\n",
       "      <td>...</td>\n",
       "      <td>...</td>\n",
       "      <td>...</td>\n",
       "    </tr>\n",
       "    <tr>\n",
       "      <th>10869</th>\n",
       "      <td>3</td>\n",
       "      <td>https://statisticalatlas.com/place/Wyoming/Pow...</td>\n",
       "      <td>Median</td>\n",
       "      <td>0    46,971.000000\\rdtype: object</td>\n",
       "      <td>0    100.000\\rdtype: object</td>\n",
       "    </tr>\n",
       "    <tr>\n",
       "      <th>10870</th>\n",
       "      <td>4</td>\n",
       "      <td>https://statisticalatlas.com/place/Wyoming/Pow...</td>\n",
       "      <td>40th</td>\n",
       "      <td>0    40,583.000000\\rdtype: object</td>\n",
       "      <td>0    86.400\\rdtype: object</td>\n",
       "    </tr>\n",
       "    <tr>\n",
       "      <th>10871</th>\n",
       "      <td>5</td>\n",
       "      <td>https://statisticalatlas.com/place/Wyoming/Pow...</td>\n",
       "      <td>20th</td>\n",
       "      <td>0    23,336.000000\\rdtype: object</td>\n",
       "      <td>0    49.682\\rdtype: object</td>\n",
       "    </tr>\n",
       "  </tbody>\n",
       "</table>\n",
       "<p>10872 rows × 5 columns</p>\n",
       "</div>"
      ],
      "text/plain": [
       "       Unnamed: 0                                              place  \\\n",
       "0               0  https://statisticalatlas.com/place/Alabama/Ala...   \n",
       "1               1  https://statisticalatlas.com/place/Alabama/Ala...   \n",
       "2               2  https://statisticalatlas.com/place/Alabama/Ala...   \n",
       "...           ...                                                ...   \n",
       "10869           3  https://statisticalatlas.com/place/Wyoming/Pow...   \n",
       "10870           4  https://statisticalatlas.com/place/Wyoming/Pow...   \n",
       "10871           5  https://statisticalatlas.com/place/Wyoming/Pow...   \n",
       "\n",
       "      percentile                              income  \\\n",
       "0           95th  0    177,359.000000\\rdtype: object   \n",
       "1           80th  0    122,176.000000\\rdtype: object   \n",
       "2           60th   0    85,277.000000\\rdtype: object   \n",
       "...          ...                                 ...   \n",
       "10869     Median   0    46,971.000000\\rdtype: object   \n",
       "10870       40th   0    40,583.000000\\rdtype: object   \n",
       "10871       20th   0    23,336.000000\\rdtype: object   \n",
       "\n",
       "                           percent  \n",
       "0      0    241.881\\rdtype: object  \n",
       "1      0    166.623\\rdtype: object  \n",
       "2      0    116.300\\rdtype: object  \n",
       "...                            ...  \n",
       "10869  0    100.000\\rdtype: object  \n",
       "10870   0    86.400\\rdtype: object  \n",
       "10871   0    49.682\\rdtype: object  \n",
       "\n",
       "[10872 rows x 5 columns]"
      ]
     },
     "execution_count": 3,
     "metadata": {},
     "output_type": "execute_result"
    }
   ],
   "source": [
    "# Load income data\n",
    "df_income = pd.read_csv('economic_data.csv')\n",
    "df_income"
   ]
  },
  {
   "cell_type": "markdown",
   "metadata": {},
   "source": [
    "After loading the crime data and the income data, it was necessary for us to extract the city and state within the url in the place column of our income df."
   ]
  },
  {
   "cell_type": "code",
   "execution_count": 4,
   "metadata": {},
   "outputs": [
    {
     "data": {
      "text/plain": [
       "0        Alabama/Alabaster\n",
       "1        Alabama/Alabaster\n",
       "2        Alabama/Alabaster\n",
       "               ...        \n",
       "10869       Wyoming/Powell\n",
       "10870       Wyoming/Powell\n",
       "10871       Wyoming/Powell\n",
       "Name: citystate, Length: 10872, dtype: object"
      ]
     },
     "execution_count": 4,
     "metadata": {},
     "output_type": "execute_result"
    }
   ],
   "source": [
    "# Extract city and state from url\n",
    "df_income['citystate'] = df_income['place'].str.extract(\"place/(.*)/\")\n",
    "df_income['citystate']"
   ]
  },
  {
   "cell_type": "code",
   "execution_count": 5,
   "metadata": {},
   "outputs": [
    {
     "data": {
      "text/plain": [
       "0        Alabama\n",
       "1        Alabama\n",
       "2        Alabama\n",
       "          ...   \n",
       "10869    Wyoming\n",
       "10870    Wyoming\n",
       "10871    Wyoming\n",
       "Name: state, Length: 10872, dtype: object"
      ]
     },
     "execution_count": 5,
     "metadata": {},
     "output_type": "execute_result"
    }
   ],
   "source": [
    "# Extract state\n",
    "df_income['state'] = df_income['citystate'].str.extract(\"(.*)/\")\n",
    "df_income['state']"
   ]
  },
  {
   "cell_type": "code",
   "execution_count": 6,
   "metadata": {},
   "outputs": [
    {
     "data": {
      "text/plain": [
       "0        Alabaster\n",
       "1        Alabaster\n",
       "2        Alabaster\n",
       "           ...    \n",
       "10869       Powell\n",
       "10870       Powell\n",
       "10871       Powell\n",
       "Name: city, Length: 10872, dtype: object"
      ]
     },
     "execution_count": 6,
     "metadata": {},
     "output_type": "execute_result"
    }
   ],
   "source": [
    "# Extract city\n",
    "df_income['city'] = df_income['citystate'].str.extract(\"/(.*)\")\n",
    "df_income['city']"
   ]
  },
  {
   "cell_type": "markdown",
   "metadata": {},
   "source": [
    "After extracting, we dropped the unnecessary columns in the income dataframe, reordered the columns, and cleaned up the dataframe to match up with the city and state columns in our crime data's csv. "
   ]
  },
  {
   "cell_type": "code",
   "execution_count": 7,
   "metadata": {},
   "outputs": [
    {
     "data": {
      "text/html": [
       "<div>\n",
       "<style scoped>\n",
       "    .dataframe tbody tr th:only-of-type {\n",
       "        vertical-align: middle;\n",
       "    }\n",
       "\n",
       "    .dataframe tbody tr th {\n",
       "        vertical-align: top;\n",
       "    }\n",
       "\n",
       "    .dataframe thead th {\n",
       "        text-align: right;\n",
       "    }\n",
       "</style>\n",
       "<table border=\"1\" class=\"dataframe\">\n",
       "  <thead>\n",
       "    <tr style=\"text-align: right;\">\n",
       "      <th></th>\n",
       "      <th>Unnamed: 0</th>\n",
       "      <th>percentile</th>\n",
       "      <th>income</th>\n",
       "      <th>percent</th>\n",
       "      <th>state</th>\n",
       "      <th>city</th>\n",
       "    </tr>\n",
       "  </thead>\n",
       "  <tbody>\n",
       "    <tr>\n",
       "      <th>0</th>\n",
       "      <td>0</td>\n",
       "      <td>95th</td>\n",
       "      <td>0    177,359.000000\\rdtype: object</td>\n",
       "      <td>0    241.881\\rdtype: object</td>\n",
       "      <td>Alabama</td>\n",
       "      <td>Alabaster</td>\n",
       "    </tr>\n",
       "    <tr>\n",
       "      <th>1</th>\n",
       "      <td>1</td>\n",
       "      <td>80th</td>\n",
       "      <td>0    122,176.000000\\rdtype: object</td>\n",
       "      <td>0    166.623\\rdtype: object</td>\n",
       "      <td>Alabama</td>\n",
       "      <td>Alabaster</td>\n",
       "    </tr>\n",
       "    <tr>\n",
       "      <th>2</th>\n",
       "      <td>2</td>\n",
       "      <td>60th</td>\n",
       "      <td>0    85,277.000000\\rdtype: object</td>\n",
       "      <td>0    116.300\\rdtype: object</td>\n",
       "      <td>Alabama</td>\n",
       "      <td>Alabaster</td>\n",
       "    </tr>\n",
       "    <tr>\n",
       "      <th>...</th>\n",
       "      <td>...</td>\n",
       "      <td>...</td>\n",
       "      <td>...</td>\n",
       "      <td>...</td>\n",
       "      <td>...</td>\n",
       "      <td>...</td>\n",
       "    </tr>\n",
       "    <tr>\n",
       "      <th>10869</th>\n",
       "      <td>3</td>\n",
       "      <td>Median</td>\n",
       "      <td>0    46,971.000000\\rdtype: object</td>\n",
       "      <td>0    100.000\\rdtype: object</td>\n",
       "      <td>Wyoming</td>\n",
       "      <td>Powell</td>\n",
       "    </tr>\n",
       "    <tr>\n",
       "      <th>10870</th>\n",
       "      <td>4</td>\n",
       "      <td>40th</td>\n",
       "      <td>0    40,583.000000\\rdtype: object</td>\n",
       "      <td>0    86.400\\rdtype: object</td>\n",
       "      <td>Wyoming</td>\n",
       "      <td>Powell</td>\n",
       "    </tr>\n",
       "    <tr>\n",
       "      <th>10871</th>\n",
       "      <td>5</td>\n",
       "      <td>20th</td>\n",
       "      <td>0    23,336.000000\\rdtype: object</td>\n",
       "      <td>0    49.682\\rdtype: object</td>\n",
       "      <td>Wyoming</td>\n",
       "      <td>Powell</td>\n",
       "    </tr>\n",
       "  </tbody>\n",
       "</table>\n",
       "<p>10872 rows × 6 columns</p>\n",
       "</div>"
      ],
      "text/plain": [
       "       Unnamed: 0 percentile                              income  \\\n",
       "0               0       95th  0    177,359.000000\\rdtype: object   \n",
       "1               1       80th  0    122,176.000000\\rdtype: object   \n",
       "2               2       60th   0    85,277.000000\\rdtype: object   \n",
       "...           ...        ...                                 ...   \n",
       "10869           3     Median   0    46,971.000000\\rdtype: object   \n",
       "10870           4       40th   0    40,583.000000\\rdtype: object   \n",
       "10871           5       20th   0    23,336.000000\\rdtype: object   \n",
       "\n",
       "                           percent    state       city  \n",
       "0      0    241.881\\rdtype: object  Alabama  Alabaster  \n",
       "1      0    166.623\\rdtype: object  Alabama  Alabaster  \n",
       "2      0    116.300\\rdtype: object  Alabama  Alabaster  \n",
       "...                            ...      ...        ...  \n",
       "10869  0    100.000\\rdtype: object  Wyoming     Powell  \n",
       "10870   0    86.400\\rdtype: object  Wyoming     Powell  \n",
       "10871   0    49.682\\rdtype: object  Wyoming     Powell  \n",
       "\n",
       "[10872 rows x 6 columns]"
      ]
     },
     "execution_count": 7,
     "metadata": {},
     "output_type": "execute_result"
    }
   ],
   "source": [
    "# Remove place and citystate columns\n",
    "df_income = df_income.drop(['place', 'citystate'], axis=1)\n",
    "df_income"
   ]
  },
  {
   "cell_type": "code",
   "execution_count": 8,
   "metadata": {},
   "outputs": [
    {
     "data": {
      "text/html": [
       "<div>\n",
       "<style scoped>\n",
       "    .dataframe tbody tr th:only-of-type {\n",
       "        vertical-align: middle;\n",
       "    }\n",
       "\n",
       "    .dataframe tbody tr th {\n",
       "        vertical-align: top;\n",
       "    }\n",
       "\n",
       "    .dataframe thead th {\n",
       "        text-align: right;\n",
       "    }\n",
       "</style>\n",
       "<table border=\"1\" class=\"dataframe\">\n",
       "  <thead>\n",
       "    <tr style=\"text-align: right;\">\n",
       "      <th></th>\n",
       "      <th>Unnamed: 0</th>\n",
       "      <th>city</th>\n",
       "      <th>state</th>\n",
       "      <th>percentile</th>\n",
       "      <th>income</th>\n",
       "      <th>percent</th>\n",
       "    </tr>\n",
       "  </thead>\n",
       "  <tbody>\n",
       "    <tr>\n",
       "      <th>0</th>\n",
       "      <td>0</td>\n",
       "      <td>Alabaster</td>\n",
       "      <td>Alabama</td>\n",
       "      <td>95th</td>\n",
       "      <td>0    177,359.000000\\rdtype: object</td>\n",
       "      <td>0    241.881\\rdtype: object</td>\n",
       "    </tr>\n",
       "    <tr>\n",
       "      <th>1</th>\n",
       "      <td>1</td>\n",
       "      <td>Alabaster</td>\n",
       "      <td>Alabama</td>\n",
       "      <td>80th</td>\n",
       "      <td>0    122,176.000000\\rdtype: object</td>\n",
       "      <td>0    166.623\\rdtype: object</td>\n",
       "    </tr>\n",
       "    <tr>\n",
       "      <th>2</th>\n",
       "      <td>2</td>\n",
       "      <td>Alabaster</td>\n",
       "      <td>Alabama</td>\n",
       "      <td>60th</td>\n",
       "      <td>0    85,277.000000\\rdtype: object</td>\n",
       "      <td>0    116.300\\rdtype: object</td>\n",
       "    </tr>\n",
       "    <tr>\n",
       "      <th>...</th>\n",
       "      <td>...</td>\n",
       "      <td>...</td>\n",
       "      <td>...</td>\n",
       "      <td>...</td>\n",
       "      <td>...</td>\n",
       "      <td>...</td>\n",
       "    </tr>\n",
       "    <tr>\n",
       "      <th>10869</th>\n",
       "      <td>3</td>\n",
       "      <td>Powell</td>\n",
       "      <td>Wyoming</td>\n",
       "      <td>Median</td>\n",
       "      <td>0    46,971.000000\\rdtype: object</td>\n",
       "      <td>0    100.000\\rdtype: object</td>\n",
       "    </tr>\n",
       "    <tr>\n",
       "      <th>10870</th>\n",
       "      <td>4</td>\n",
       "      <td>Powell</td>\n",
       "      <td>Wyoming</td>\n",
       "      <td>40th</td>\n",
       "      <td>0    40,583.000000\\rdtype: object</td>\n",
       "      <td>0    86.400\\rdtype: object</td>\n",
       "    </tr>\n",
       "    <tr>\n",
       "      <th>10871</th>\n",
       "      <td>5</td>\n",
       "      <td>Powell</td>\n",
       "      <td>Wyoming</td>\n",
       "      <td>20th</td>\n",
       "      <td>0    23,336.000000\\rdtype: object</td>\n",
       "      <td>0    49.682\\rdtype: object</td>\n",
       "    </tr>\n",
       "  </tbody>\n",
       "</table>\n",
       "<p>10872 rows × 6 columns</p>\n",
       "</div>"
      ],
      "text/plain": [
       "       Unnamed: 0       city    state percentile  \\\n",
       "0               0  Alabaster  Alabama       95th   \n",
       "1               1  Alabaster  Alabama       80th   \n",
       "2               2  Alabaster  Alabama       60th   \n",
       "...           ...        ...      ...        ...   \n",
       "10869           3     Powell  Wyoming     Median   \n",
       "10870           4     Powell  Wyoming       40th   \n",
       "10871           5     Powell  Wyoming       20th   \n",
       "\n",
       "                                   income                      percent  \n",
       "0      0    177,359.000000\\rdtype: object  0    241.881\\rdtype: object  \n",
       "1      0    122,176.000000\\rdtype: object  0    166.623\\rdtype: object  \n",
       "2       0    85,277.000000\\rdtype: object  0    116.300\\rdtype: object  \n",
       "...                                   ...                          ...  \n",
       "10869   0    46,971.000000\\rdtype: object  0    100.000\\rdtype: object  \n",
       "10870   0    40,583.000000\\rdtype: object   0    86.400\\rdtype: object  \n",
       "10871   0    23,336.000000\\rdtype: object   0    49.682\\rdtype: object  \n",
       "\n",
       "[10872 rows x 6 columns]"
      ]
     },
     "execution_count": 8,
     "metadata": {},
     "output_type": "execute_result"
    }
   ],
   "source": [
    "# Reorder columns\n",
    "df_income = df_income[['Unnamed: 0', 'city', 'state', 'percentile', 'income', 'percent']]\n",
    "df_income"
   ]
  },
  {
   "cell_type": "code",
   "execution_count": 9,
   "metadata": {},
   "outputs": [
    {
     "data": {
      "text/html": [
       "<div>\n",
       "<style scoped>\n",
       "    .dataframe tbody tr th:only-of-type {\n",
       "        vertical-align: middle;\n",
       "    }\n",
       "\n",
       "    .dataframe tbody tr th {\n",
       "        vertical-align: top;\n",
       "    }\n",
       "\n",
       "    .dataframe thead th {\n",
       "        text-align: right;\n",
       "    }\n",
       "</style>\n",
       "<table border=\"1\" class=\"dataframe\">\n",
       "  <thead>\n",
       "    <tr style=\"text-align: right;\">\n",
       "      <th></th>\n",
       "      <th>Unnamed: 0</th>\n",
       "      <th>city</th>\n",
       "      <th>state</th>\n",
       "      <th>percentile</th>\n",
       "      <th>income</th>\n",
       "      <th>percent</th>\n",
       "    </tr>\n",
       "  </thead>\n",
       "  <tbody>\n",
       "    <tr>\n",
       "      <th>0</th>\n",
       "      <td>0</td>\n",
       "      <td>Alabaster</td>\n",
       "      <td>Alabama</td>\n",
       "      <td>95th</td>\n",
       "      <td>177,359.000000\\rdtype: object</td>\n",
       "      <td>241.881\\rdtype: object</td>\n",
       "    </tr>\n",
       "    <tr>\n",
       "      <th>1</th>\n",
       "      <td>1</td>\n",
       "      <td>Alabaster</td>\n",
       "      <td>Alabama</td>\n",
       "      <td>80th</td>\n",
       "      <td>122,176.000000\\rdtype: object</td>\n",
       "      <td>166.623\\rdtype: object</td>\n",
       "    </tr>\n",
       "    <tr>\n",
       "      <th>2</th>\n",
       "      <td>2</td>\n",
       "      <td>Alabaster</td>\n",
       "      <td>Alabama</td>\n",
       "      <td>60th</td>\n",
       "      <td>85,277.000000\\rdtype: object</td>\n",
       "      <td>116.300\\rdtype: object</td>\n",
       "    </tr>\n",
       "    <tr>\n",
       "      <th>...</th>\n",
       "      <td>...</td>\n",
       "      <td>...</td>\n",
       "      <td>...</td>\n",
       "      <td>...</td>\n",
       "      <td>...</td>\n",
       "      <td>...</td>\n",
       "    </tr>\n",
       "    <tr>\n",
       "      <th>10869</th>\n",
       "      <td>3</td>\n",
       "      <td>Powell</td>\n",
       "      <td>Wyoming</td>\n",
       "      <td>Median</td>\n",
       "      <td>46,971.000000\\rdtype: object</td>\n",
       "      <td>100.000\\rdtype: object</td>\n",
       "    </tr>\n",
       "    <tr>\n",
       "      <th>10870</th>\n",
       "      <td>4</td>\n",
       "      <td>Powell</td>\n",
       "      <td>Wyoming</td>\n",
       "      <td>40th</td>\n",
       "      <td>40,583.000000\\rdtype: object</td>\n",
       "      <td>86.400\\rdtype: object</td>\n",
       "    </tr>\n",
       "    <tr>\n",
       "      <th>10871</th>\n",
       "      <td>5</td>\n",
       "      <td>Powell</td>\n",
       "      <td>Wyoming</td>\n",
       "      <td>20th</td>\n",
       "      <td>23,336.000000\\rdtype: object</td>\n",
       "      <td>49.682\\rdtype: object</td>\n",
       "    </tr>\n",
       "  </tbody>\n",
       "</table>\n",
       "<p>10872 rows × 6 columns</p>\n",
       "</div>"
      ],
      "text/plain": [
       "       Unnamed: 0       city    state percentile  \\\n",
       "0               0  Alabaster  Alabama       95th   \n",
       "1               1  Alabaster  Alabama       80th   \n",
       "2               2  Alabaster  Alabama       60th   \n",
       "...           ...        ...      ...        ...   \n",
       "10869           3     Powell  Wyoming     Median   \n",
       "10870           4     Powell  Wyoming       40th   \n",
       "10871           5     Powell  Wyoming       20th   \n",
       "\n",
       "                                 income                    percent  \n",
       "0         177,359.000000\\rdtype: object     241.881\\rdtype: object  \n",
       "1         122,176.000000\\rdtype: object     166.623\\rdtype: object  \n",
       "2          85,277.000000\\rdtype: object     116.300\\rdtype: object  \n",
       "...                                 ...                        ...  \n",
       "10869      46,971.000000\\rdtype: object     100.000\\rdtype: object  \n",
       "10870      40,583.000000\\rdtype: object      86.400\\rdtype: object  \n",
       "10871      23,336.000000\\rdtype: object      49.682\\rdtype: object  \n",
       "\n",
       "[10872 rows x 6 columns]"
      ]
     },
     "execution_count": 9,
     "metadata": {},
     "output_type": "execute_result"
    }
   ],
   "source": [
    "# Remove zeroes in income and percent columns\n",
    "df_income['income'] = df_income['income'].replace({'0 ':''}, regex = True)\n",
    "df_income['percent'] = df_income['percent'].replace({'0 ':''}, regex = True)\n",
    "df_income"
   ]
  },
  {
   "cell_type": "markdown",
   "metadata": {},
   "source": [
    "Then, the income column & percentile column are cleaned up to be changed into ints, so we could pivot the data, making each percentile (20th, 40th, etc.) into a column and organizing our data more aesthetically and usefully."
   ]
  },
  {
   "cell_type": "code",
   "execution_count": 10,
   "metadata": {},
   "outputs": [],
   "source": [
    "# Convert income to int\n",
    "pd.options.mode.chained_assignment = None \n",
    "for i in range(0, len(df_income)):\n",
    "    incomeConvert = df_income['income'][i]\n",
    "    incomeConvert = incomeConvert[:(incomeConvert.find(\".\"))]\n",
    "    incomeConvert = incomeConvert.replace(',', \"\")\n",
    "    incomeConvert = re.sub(r\"^\\s+\", \"\", incomeConvert, flags=re.UNICODE)\n",
    "    \n",
    "    incomeConvert = int(float(incomeConvert))\n",
    "    df_income['income'][i] = incomeConvert\n",
    "    #print(incomeConvert)    "
   ]
  },
  {
   "cell_type": "code",
   "execution_count": 11,
   "metadata": {},
   "outputs": [
    {
     "data": {
      "text/html": [
       "<div>\n",
       "<style scoped>\n",
       "    .dataframe tbody tr th:only-of-type {\n",
       "        vertical-align: middle;\n",
       "    }\n",
       "\n",
       "    .dataframe tbody tr th {\n",
       "        vertical-align: top;\n",
       "    }\n",
       "\n",
       "    .dataframe thead th {\n",
       "        text-align: right;\n",
       "    }\n",
       "</style>\n",
       "<table border=\"1\" class=\"dataframe\">\n",
       "  <thead>\n",
       "    <tr style=\"text-align: right;\">\n",
       "      <th></th>\n",
       "      <th>city</th>\n",
       "      <th>state</th>\n",
       "      <th>20th</th>\n",
       "      <th>40th</th>\n",
       "      <th>Median</th>\n",
       "      <th>60th</th>\n",
       "      <th>80th</th>\n",
       "      <th>95th</th>\n",
       "    </tr>\n",
       "  </thead>\n",
       "  <tbody>\n",
       "    <tr>\n",
       "      <th>0</th>\n",
       "      <td>Alabaster</td>\n",
       "      <td>Alabama</td>\n",
       "      <td>33578</td>\n",
       "      <td>61734</td>\n",
       "      <td>73325</td>\n",
       "      <td>85277</td>\n",
       "      <td>122176</td>\n",
       "      <td>177359</td>\n",
       "    </tr>\n",
       "    <tr>\n",
       "      <th>1</th>\n",
       "      <td>Albertville</td>\n",
       "      <td>Alabama</td>\n",
       "      <td>17270</td>\n",
       "      <td>27280</td>\n",
       "      <td>32042</td>\n",
       "      <td>43119</td>\n",
       "      <td>73798</td>\n",
       "      <td>128375</td>\n",
       "    </tr>\n",
       "    <tr>\n",
       "      <th>2</th>\n",
       "      <td>Alexander-City</td>\n",
       "      <td>Alabama</td>\n",
       "      <td>13295</td>\n",
       "      <td>23247</td>\n",
       "      <td>30442</td>\n",
       "      <td>38488</td>\n",
       "      <td>65625</td>\n",
       "      <td>133750</td>\n",
       "    </tr>\n",
       "    <tr>\n",
       "      <th>...</th>\n",
       "      <td>...</td>\n",
       "      <td>...</td>\n",
       "      <td>...</td>\n",
       "      <td>...</td>\n",
       "      <td>...</td>\n",
       "      <td>...</td>\n",
       "      <td>...</td>\n",
       "      <td>...</td>\n",
       "    </tr>\n",
       "    <tr>\n",
       "      <th>1567</th>\n",
       "      <td>Sheridan</td>\n",
       "      <td>Wyoming</td>\n",
       "      <td>20786</td>\n",
       "      <td>37456</td>\n",
       "      <td>48804</td>\n",
       "      <td>61526</td>\n",
       "      <td>95356</td>\n",
       "      <td>152329</td>\n",
       "    </tr>\n",
       "    <tr>\n",
       "      <th>1568</th>\n",
       "      <td>Torrington</td>\n",
       "      <td>Wyoming</td>\n",
       "      <td>18806</td>\n",
       "      <td>36662</td>\n",
       "      <td>41959</td>\n",
       "      <td>50048</td>\n",
       "      <td>86015</td>\n",
       "      <td>154477</td>\n",
       "    </tr>\n",
       "    <tr>\n",
       "      <th>1569</th>\n",
       "      <td>Worland</td>\n",
       "      <td>Wyoming</td>\n",
       "      <td>20148</td>\n",
       "      <td>32634</td>\n",
       "      <td>39904</td>\n",
       "      <td>52766</td>\n",
       "      <td>80107</td>\n",
       "      <td>165486</td>\n",
       "    </tr>\n",
       "  </tbody>\n",
       "</table>\n",
       "<p>1570 rows × 8 columns</p>\n",
       "</div>"
      ],
      "text/plain": [
       "                city    state   20th   40th  Median   60th    80th    95th\n",
       "0          Alabaster  Alabama  33578  61734   73325  85277  122176  177359\n",
       "1        Albertville  Alabama  17270  27280   32042  43119   73798  128375\n",
       "2     Alexander-City  Alabama  13295  23247   30442  38488   65625  133750\n",
       "...              ...      ...    ...    ...     ...    ...     ...     ...\n",
       "1567        Sheridan  Wyoming  20786  37456   48804  61526   95356  152329\n",
       "1568      Torrington  Wyoming  18806  36662   41959  50048   86015  154477\n",
       "1569         Worland  Wyoming  20148  32634   39904  52766   80107  165486\n",
       "\n",
       "[1570 rows x 8 columns]"
      ]
     },
     "execution_count": 11,
     "metadata": {},
     "output_type": "execute_result"
    }
   ],
   "source": [
    "# Drop 'percent' column\n",
    "# Make percentile columns 20th, 40th, Median, 60th, 80th, 95th\n",
    "df_percentile = df_income.pivot_table(index=[\"state\",\"city\"], columns='percentile', values=['income'], aggfunc='first')\n",
    "df_percentile.columns = df_percentile.columns.droplevel()\n",
    "df_percentile = df_percentile.reset_index()\n",
    "df_percentile.columns=df_percentile.columns.tolist()\n",
    "df_percentile = df_percentile[['city','state','20th','40th','Median','60th','80th','95th']]\n",
    "df_percentile"
   ]
  },
  {
   "cell_type": "markdown",
   "metadata": {},
   "source": [
    "After cleaning the data, we could then merge the two dataframes using the city and state columns that appeared in both."
   ]
  },
  {
   "cell_type": "code",
   "execution_count": 12,
   "metadata": {},
   "outputs": [
    {
     "data": {
      "text/html": [
       "<div>\n",
       "<style scoped>\n",
       "    .dataframe tbody tr th:only-of-type {\n",
       "        vertical-align: middle;\n",
       "    }\n",
       "\n",
       "    .dataframe tbody tr th {\n",
       "        vertical-align: top;\n",
       "    }\n",
       "\n",
       "    .dataframe thead th {\n",
       "        text-align: right;\n",
       "    }\n",
       "</style>\n",
       "<table border=\"1\" class=\"dataframe\">\n",
       "  <thead>\n",
       "    <tr style=\"text-align: right;\">\n",
       "      <th></th>\n",
       "      <th>city</th>\n",
       "      <th>state</th>\n",
       "      <th>20th</th>\n",
       "      <th>40th</th>\n",
       "      <th>Median</th>\n",
       "      <th>...</th>\n",
       "      <th>autothefts</th>\n",
       "      <th>autotheftsper100k</th>\n",
       "      <th>arson</th>\n",
       "      <th>arsonper100k</th>\n",
       "      <th>crime index</th>\n",
       "    </tr>\n",
       "  </thead>\n",
       "  <tbody>\n",
       "    <tr>\n",
       "      <th>0</th>\n",
       "      <td>Alabaster</td>\n",
       "      <td>Alabama</td>\n",
       "      <td>33578</td>\n",
       "      <td>61734</td>\n",
       "      <td>73325</td>\n",
       "      <td>...</td>\n",
       "      <td>21.0</td>\n",
       "      <td>63.2</td>\n",
       "      <td>NaN</td>\n",
       "      <td>NaN</td>\n",
       "      <td>115.9</td>\n",
       "    </tr>\n",
       "    <tr>\n",
       "      <th>1</th>\n",
       "      <td>Albertville</td>\n",
       "      <td>Alabama</td>\n",
       "      <td>17270</td>\n",
       "      <td>27280</td>\n",
       "      <td>32042</td>\n",
       "      <td>...</td>\n",
       "      <td>90.0</td>\n",
       "      <td>416.9</td>\n",
       "      <td>NaN</td>\n",
       "      <td>NaN</td>\n",
       "      <td>200.0</td>\n",
       "    </tr>\n",
       "    <tr>\n",
       "      <th>2</th>\n",
       "      <td>Anniston</td>\n",
       "      <td>Alabama</td>\n",
       "      <td>12553</td>\n",
       "      <td>22337</td>\n",
       "      <td>30539</td>\n",
       "      <td>...</td>\n",
       "      <td>110.0</td>\n",
       "      <td>501.0</td>\n",
       "      <td>NaN</td>\n",
       "      <td>NaN</td>\n",
       "      <td>1302.8</td>\n",
       "    </tr>\n",
       "    <tr>\n",
       "      <th>...</th>\n",
       "      <td>...</td>\n",
       "      <td>...</td>\n",
       "      <td>...</td>\n",
       "      <td>...</td>\n",
       "      <td>...</td>\n",
       "      <td>...</td>\n",
       "      <td>...</td>\n",
       "      <td>...</td>\n",
       "      <td>...</td>\n",
       "      <td>...</td>\n",
       "      <td>...</td>\n",
       "    </tr>\n",
       "    <tr>\n",
       "      <th>921</th>\n",
       "      <td>Sheridan</td>\n",
       "      <td>Wyoming</td>\n",
       "      <td>20786</td>\n",
       "      <td>37456</td>\n",
       "      <td>48804</td>\n",
       "      <td>...</td>\n",
       "      <td>20.0</td>\n",
       "      <td>110.9</td>\n",
       "      <td>2.0</td>\n",
       "      <td>11.1</td>\n",
       "      <td>101.1</td>\n",
       "    </tr>\n",
       "    <tr>\n",
       "      <th>922</th>\n",
       "      <td>Torrington</td>\n",
       "      <td>Wyoming</td>\n",
       "      <td>18806</td>\n",
       "      <td>36662</td>\n",
       "      <td>41959</td>\n",
       "      <td>...</td>\n",
       "      <td>3.0</td>\n",
       "      <td>44.6</td>\n",
       "      <td>0.0</td>\n",
       "      <td>0.0</td>\n",
       "      <td>91.5</td>\n",
       "    </tr>\n",
       "    <tr>\n",
       "      <th>923</th>\n",
       "      <td>Worland</td>\n",
       "      <td>Wyoming</td>\n",
       "      <td>20148</td>\n",
       "      <td>32634</td>\n",
       "      <td>39904</td>\n",
       "      <td>...</td>\n",
       "      <td>3.0</td>\n",
       "      <td>56.7</td>\n",
       "      <td>0.0</td>\n",
       "      <td>0.0</td>\n",
       "      <td>118.4</td>\n",
       "    </tr>\n",
       "  </tbody>\n",
       "</table>\n",
       "<p>924 rows × 25 columns</p>\n",
       "</div>"
      ],
      "text/plain": [
       "            city    state   20th   40th  Median     ...       autothefts  \\\n",
       "0      Alabaster  Alabama  33578  61734   73325     ...             21.0   \n",
       "1    Albertville  Alabama  17270  27280   32042     ...             90.0   \n",
       "2       Anniston  Alabama  12553  22337   30539     ...            110.0   \n",
       "..           ...      ...    ...    ...     ...     ...              ...   \n",
       "921     Sheridan  Wyoming  20786  37456   48804     ...             20.0   \n",
       "922   Torrington  Wyoming  18806  36662   41959     ...              3.0   \n",
       "923      Worland  Wyoming  20148  32634   39904     ...              3.0   \n",
       "\n",
       "     autotheftsper100k  arson  arsonper100k  crime index  \n",
       "0                 63.2    NaN           NaN        115.9  \n",
       "1                416.9    NaN           NaN        200.0  \n",
       "2                501.0    NaN           NaN       1302.8  \n",
       "..                 ...    ...           ...          ...  \n",
       "921              110.9    2.0          11.1        101.1  \n",
       "922               44.6    0.0           0.0         91.5  \n",
       "923               56.7    0.0           0.0        118.4  \n",
       "\n",
       "[924 rows x 25 columns]"
      ]
     },
     "execution_count": 12,
     "metadata": {},
     "output_type": "execute_result"
    }
   ],
   "source": [
    "crime_income_df = pd.merge(df_percentile, df_crime, on=['city','state'])\n",
    "crime_income_df = crime_income_df.drop(['Unnamed: 0'], axis=1)\n",
    "crime_income_df"
   ]
  },
  {
   "cell_type": "code",
   "execution_count": 13,
   "metadata": {},
   "outputs": [
    {
     "data": {
      "text/html": [
       "<div>\n",
       "<style scoped>\n",
       "    .dataframe tbody tr th:only-of-type {\n",
       "        vertical-align: middle;\n",
       "    }\n",
       "\n",
       "    .dataframe tbody tr th {\n",
       "        vertical-align: top;\n",
       "    }\n",
       "\n",
       "    .dataframe thead th {\n",
       "        text-align: right;\n",
       "    }\n",
       "</style>\n",
       "<table border=\"1\" class=\"dataframe\">\n",
       "  <thead>\n",
       "    <tr style=\"text-align: right;\">\n",
       "      <th></th>\n",
       "      <th>city</th>\n",
       "      <th>state</th>\n",
       "      <th>20th</th>\n",
       "      <th>40th</th>\n",
       "      <th>Median</th>\n",
       "      <th>...</th>\n",
       "      <th>autotheftsper100k</th>\n",
       "      <th>arson</th>\n",
       "      <th>arsonper100k</th>\n",
       "      <th>crime index</th>\n",
       "      <th>income inequality</th>\n",
       "    </tr>\n",
       "  </thead>\n",
       "  <tbody>\n",
       "    <tr>\n",
       "      <th>0</th>\n",
       "      <td>Alabaster</td>\n",
       "      <td>Alabama</td>\n",
       "      <td>33578</td>\n",
       "      <td>61734</td>\n",
       "      <td>73325</td>\n",
       "      <td>...</td>\n",
       "      <td>63.2</td>\n",
       "      <td>NaN</td>\n",
       "      <td>NaN</td>\n",
       "      <td>115.9</td>\n",
       "      <td>143781</td>\n",
       "    </tr>\n",
       "    <tr>\n",
       "      <th>1</th>\n",
       "      <td>Albertville</td>\n",
       "      <td>Alabama</td>\n",
       "      <td>17270</td>\n",
       "      <td>27280</td>\n",
       "      <td>32042</td>\n",
       "      <td>...</td>\n",
       "      <td>416.9</td>\n",
       "      <td>NaN</td>\n",
       "      <td>NaN</td>\n",
       "      <td>200.0</td>\n",
       "      <td>111105</td>\n",
       "    </tr>\n",
       "    <tr>\n",
       "      <th>2</th>\n",
       "      <td>Anniston</td>\n",
       "      <td>Alabama</td>\n",
       "      <td>12553</td>\n",
       "      <td>22337</td>\n",
       "      <td>30539</td>\n",
       "      <td>...</td>\n",
       "      <td>501.0</td>\n",
       "      <td>NaN</td>\n",
       "      <td>NaN</td>\n",
       "      <td>1302.8</td>\n",
       "      <td>131285</td>\n",
       "    </tr>\n",
       "    <tr>\n",
       "      <th>...</th>\n",
       "      <td>...</td>\n",
       "      <td>...</td>\n",
       "      <td>...</td>\n",
       "      <td>...</td>\n",
       "      <td>...</td>\n",
       "      <td>...</td>\n",
       "      <td>...</td>\n",
       "      <td>...</td>\n",
       "      <td>...</td>\n",
       "      <td>...</td>\n",
       "      <td>...</td>\n",
       "    </tr>\n",
       "    <tr>\n",
       "      <th>921</th>\n",
       "      <td>Sheridan</td>\n",
       "      <td>Wyoming</td>\n",
       "      <td>20786</td>\n",
       "      <td>37456</td>\n",
       "      <td>48804</td>\n",
       "      <td>...</td>\n",
       "      <td>110.9</td>\n",
       "      <td>2.0</td>\n",
       "      <td>11.1</td>\n",
       "      <td>101.1</td>\n",
       "      <td>131543</td>\n",
       "    </tr>\n",
       "    <tr>\n",
       "      <th>922</th>\n",
       "      <td>Torrington</td>\n",
       "      <td>Wyoming</td>\n",
       "      <td>18806</td>\n",
       "      <td>36662</td>\n",
       "      <td>41959</td>\n",
       "      <td>...</td>\n",
       "      <td>44.6</td>\n",
       "      <td>0.0</td>\n",
       "      <td>0.0</td>\n",
       "      <td>91.5</td>\n",
       "      <td>135671</td>\n",
       "    </tr>\n",
       "    <tr>\n",
       "      <th>923</th>\n",
       "      <td>Worland</td>\n",
       "      <td>Wyoming</td>\n",
       "      <td>20148</td>\n",
       "      <td>32634</td>\n",
       "      <td>39904</td>\n",
       "      <td>...</td>\n",
       "      <td>56.7</td>\n",
       "      <td>0.0</td>\n",
       "      <td>0.0</td>\n",
       "      <td>118.4</td>\n",
       "      <td>145338</td>\n",
       "    </tr>\n",
       "  </tbody>\n",
       "</table>\n",
       "<p>924 rows × 26 columns</p>\n",
       "</div>"
      ],
      "text/plain": [
       "            city    state   20th   40th  Median        ...          \\\n",
       "0      Alabaster  Alabama  33578  61734   73325        ...           \n",
       "1    Albertville  Alabama  17270  27280   32042        ...           \n",
       "2       Anniston  Alabama  12553  22337   30539        ...           \n",
       "..           ...      ...    ...    ...     ...        ...           \n",
       "921     Sheridan  Wyoming  20786  37456   48804        ...           \n",
       "922   Torrington  Wyoming  18806  36662   41959        ...           \n",
       "923      Worland  Wyoming  20148  32634   39904        ...           \n",
       "\n",
       "     autotheftsper100k  arson  arsonper100k  crime index  income inequality  \n",
       "0                 63.2    NaN           NaN        115.9             143781  \n",
       "1                416.9    NaN           NaN        200.0             111105  \n",
       "2                501.0    NaN           NaN       1302.8             131285  \n",
       "..                 ...    ...           ...          ...                ...  \n",
       "921              110.9    2.0          11.1        101.1             131543  \n",
       "922               44.6    0.0           0.0         91.5             135671  \n",
       "923               56.7    0.0           0.0        118.4             145338  \n",
       "\n",
       "[924 rows x 26 columns]"
      ]
     },
     "execution_count": 13,
     "metadata": {},
     "output_type": "execute_result"
    }
   ],
   "source": [
    "# Create inequality column: 95th minus 20th\n",
    "inequality = [0]*len(crime_income_df)\n",
    "for i in range(0,len(crime_income_df)):\n",
    "    inequality[i] = crime_income_df['95th'][i] - crime_income_df['20th'][i]\n",
    "\n",
    "crime_income_df['income inequality'] = inequality  \n",
    "crime_income_df"
   ]
  },
  {
   "cell_type": "markdown",
   "metadata": {},
   "source": [
    "Now let's add in the quintile ratios. This index of inequality will be the 80th percentile's value divided by the 20th percentile's value. This is known as the Quintile Share, and the EU uses this to monitor income distribution in countries.(According to source). \n",
    "# add source!"
   ]
  },
  {
   "cell_type": "code",
   "execution_count": 14,
   "metadata": {},
   "outputs": [
    {
     "data": {
      "text/html": [
       "<div>\n",
       "<style scoped>\n",
       "    .dataframe tbody tr th:only-of-type {\n",
       "        vertical-align: middle;\n",
       "    }\n",
       "\n",
       "    .dataframe tbody tr th {\n",
       "        vertical-align: top;\n",
       "    }\n",
       "\n",
       "    .dataframe thead th {\n",
       "        text-align: right;\n",
       "    }\n",
       "</style>\n",
       "<table border=\"1\" class=\"dataframe\">\n",
       "  <thead>\n",
       "    <tr style=\"text-align: right;\">\n",
       "      <th></th>\n",
       "      <th>city</th>\n",
       "      <th>state</th>\n",
       "      <th>20th</th>\n",
       "      <th>40th</th>\n",
       "      <th>Median</th>\n",
       "      <th>...</th>\n",
       "      <th>arson</th>\n",
       "      <th>arsonper100k</th>\n",
       "      <th>crime index</th>\n",
       "      <th>income inequality</th>\n",
       "      <th>quintile share</th>\n",
       "    </tr>\n",
       "  </thead>\n",
       "  <tbody>\n",
       "    <tr>\n",
       "      <th>0</th>\n",
       "      <td>Alabaster</td>\n",
       "      <td>Alabama</td>\n",
       "      <td>33578</td>\n",
       "      <td>61734</td>\n",
       "      <td>73325</td>\n",
       "      <td>...</td>\n",
       "      <td>NaN</td>\n",
       "      <td>NaN</td>\n",
       "      <td>115.9</td>\n",
       "      <td>143781</td>\n",
       "      <td>3.638573</td>\n",
       "    </tr>\n",
       "    <tr>\n",
       "      <th>1</th>\n",
       "      <td>Albertville</td>\n",
       "      <td>Alabama</td>\n",
       "      <td>17270</td>\n",
       "      <td>27280</td>\n",
       "      <td>32042</td>\n",
       "      <td>...</td>\n",
       "      <td>NaN</td>\n",
       "      <td>NaN</td>\n",
       "      <td>200.0</td>\n",
       "      <td>111105</td>\n",
       "      <td>4.273191</td>\n",
       "    </tr>\n",
       "    <tr>\n",
       "      <th>2</th>\n",
       "      <td>Anniston</td>\n",
       "      <td>Alabama</td>\n",
       "      <td>12553</td>\n",
       "      <td>22337</td>\n",
       "      <td>30539</td>\n",
       "      <td>...</td>\n",
       "      <td>NaN</td>\n",
       "      <td>NaN</td>\n",
       "      <td>1302.8</td>\n",
       "      <td>131285</td>\n",
       "      <td>5.215646</td>\n",
       "    </tr>\n",
       "    <tr>\n",
       "      <th>3</th>\n",
       "      <td>Athens</td>\n",
       "      <td>Alabama</td>\n",
       "      <td>16777</td>\n",
       "      <td>33804</td>\n",
       "      <td>45920</td>\n",
       "      <td>...</td>\n",
       "      <td>NaN</td>\n",
       "      <td>NaN</td>\n",
       "      <td>140.2</td>\n",
       "      <td>182416</td>\n",
       "      <td>6.247660</td>\n",
       "    </tr>\n",
       "    <tr>\n",
       "      <th>4</th>\n",
       "      <td>Auburn</td>\n",
       "      <td>Alabama</td>\n",
       "      <td>10718</td>\n",
       "      <td>26433</td>\n",
       "      <td>38912</td>\n",
       "      <td>...</td>\n",
       "      <td>NaN</td>\n",
       "      <td>NaN</td>\n",
       "      <td>217.4</td>\n",
       "      <td>187385</td>\n",
       "      <td>9.969491</td>\n",
       "    </tr>\n",
       "  </tbody>\n",
       "</table>\n",
       "<p>5 rows × 27 columns</p>\n",
       "</div>"
      ],
      "text/plain": [
       "          city    state   20th   40th  Median       ...        arson  \\\n",
       "0    Alabaster  Alabama  33578  61734   73325       ...          NaN   \n",
       "1  Albertville  Alabama  17270  27280   32042       ...          NaN   \n",
       "2     Anniston  Alabama  12553  22337   30539       ...          NaN   \n",
       "3       Athens  Alabama  16777  33804   45920       ...          NaN   \n",
       "4       Auburn  Alabama  10718  26433   38912       ...          NaN   \n",
       "\n",
       "   arsonper100k  crime index  income inequality  quintile share  \n",
       "0           NaN        115.9             143781        3.638573  \n",
       "1           NaN        200.0             111105        4.273191  \n",
       "2           NaN       1302.8             131285        5.215646  \n",
       "3           NaN        140.2             182416        6.247660  \n",
       "4           NaN        217.4             187385        9.969491  \n",
       "\n",
       "[5 rows x 27 columns]"
      ]
     },
     "execution_count": 14,
     "metadata": {},
     "output_type": "execute_result"
    }
   ],
   "source": [
    "# Zipping the quintiles together so they're easy to digest in a function. \n",
    "quintile_values = list(zip(list(crime_income_df['20th']),list(crime_income_df['80th'])))\n",
    "# iterate through the tuples, creating the quintile share. Then, appending that to a list,\n",
    "# which will become our quintile ratio column.\n",
    "quintile_share = []\n",
    "for i in range(len(quintile_values)):\n",
    "    val = quintile_values[i][1] / quintile_values[i][0]\n",
    "    quintile_share.append(val)\n",
    "crime_income_df[\"quintile share\"] = pd.Series(quintile_share)\n",
    "\n",
    "crime_income_df.head()"
   ]
  },
  {
   "cell_type": "markdown",
   "metadata": {},
   "source": [
    "Data cleaning and preprocessing for Gini index analysis"
   ]
  },
  {
   "cell_type": "code",
   "execution_count": 15,
   "metadata": {},
   "outputs": [
    {
     "data": {
      "text/plain": [
       "(3573, 3)"
      ]
     },
     "execution_count": 15,
     "metadata": {},
     "output_type": "execute_result"
    }
   ],
   "source": [
    "# Import city gini index data\n",
    "gini_index_df = pd.read_csv('city_gini_index.csv', encoding='latin-1', header = 1)\n",
    "# Drop the two ID columns which will not be used\n",
    "gini_index_df = gini_index_df.drop(columns = ['Id', 'Id2'])\n",
    "\n",
    "gini_index_df.shape"
   ]
  },
  {
   "cell_type": "code",
   "execution_count": 16,
   "metadata": {},
   "outputs": [
    {
     "data": {
      "text/plain": [
       "(3573, 4)"
      ]
     },
     "execution_count": 16,
     "metadata": {},
     "output_type": "execute_result"
    }
   ],
   "source": [
    "city = []\n",
    "state = []\n",
    "# Loop through the gini index dataframe and convert the state name to its abbreviation\n",
    "for citystate in gini_index_df.iterrows():\n",
    "    strcity = str(citystate[1][0])\n",
    "    \n",
    "    # Get the city name\n",
    "    cityname = strcity.split(',')[0].strip()\n",
    "    splitcity = cityname.split('--')\n",
    "    if (len(splitcity) > 1):\n",
    "        cityname = splitcity[1]\n",
    "    else:\n",
    "        cityname = splitcity[0]\n",
    "    statename = strcity.split(',')[1].strip()\n",
    "    newstate = statename.split(' ')[0].strip()\n",
    "    city.append(cityname)\n",
    "    state.append(newstate)\n",
    "\n",
    "# Replace the old county and state name column with the new county and abbreviated state column\n",
    "gini_index_df['city'] = city\n",
    "gini_index_df['state'] = state\n",
    "gini_index_df.drop(columns = ['Geography'], inplace = True)\n",
    "gini_index_df.shape"
   ]
  },
  {
   "cell_type": "code",
   "execution_count": 17,
   "metadata": {},
   "outputs": [
    {
     "data": {
      "text/plain": [
       "(3573, 4)"
      ]
     },
     "execution_count": 17,
     "metadata": {},
     "output_type": "execute_result"
    }
   ],
   "source": [
    "# Dictionary used to convert the state name to its abbreviation\n",
    "us_state_abbrev = {\n",
    "    'AL': 'Alabama',\n",
    "    'AK': 'Alaska',\n",
    "    'AZ': 'Arizona',\n",
    "    'AR': 'Arkansas',\n",
    "    'CA': 'California',\n",
    "    'CO': 'Colorado',\n",
    "    'CT': 'Connecticut',\n",
    "    'DE': 'Delaware',\n",
    "    'FL': 'Florida',\n",
    "    'GA': 'Georgia',\n",
    "    'HI': 'Hawaii',\n",
    "    'ID': 'Idaho',\n",
    "    'IL': 'Illinois',\n",
    "    'IN': 'Indiana',\n",
    "    'IA': 'Iowa',\n",
    "    'KS': 'Kansas',\n",
    "    'KY': 'Kentucky',\n",
    "    'LA': 'Louisiana',\n",
    "    'ME': 'Maine',\n",
    "    'MD': 'Maryland',\n",
    "    'MA': 'Massachusetts',\n",
    "    'MI': 'Michigan',\n",
    "    'MN': 'Minnesota',\n",
    "    'MS': 'Mississippi',\n",
    "    'MO': 'Missouri',\n",
    "    'MT': 'Montana',\n",
    "    'NE': 'Nebraska',\n",
    "    'NV': 'Nevada',\n",
    "    'NH': 'New Hampshire',\n",
    "    'NJ': 'New Jersey',\n",
    "    'NM': 'New Mexico',\n",
    "    'NY': 'New York',\n",
    "    'NC': 'North Carolina',\n",
    "    'ND': 'North Dakota',\n",
    "    'OH': 'Ohio',\n",
    "    'OK': 'Oklahoma',\n",
    "    'OR': 'Oregon',\n",
    "    'PA': 'Pennsylvania',\n",
    "    'RI': 'Rhode Island',\n",
    "    'SC': 'South Carolina',\n",
    "    'SD': 'South Dakota',\n",
    "    'TN': 'Tennessee',\n",
    "    'TX': 'Texas',\n",
    "    'UT': 'Utah',\n",
    "    'VT': 'Vermont',\n",
    "    'VA': 'Virginia',\n",
    "    'WA': 'Washington',\n",
    "    'WV': 'West Virginia',\n",
    "    'WI': 'Wisconsin',\n",
    "    'WY': 'Wyoming',\n",
    "    'DC': 'District of Columbia'\n",
    "}\n",
    "\n",
    "newcol = []\n",
    "# Loop through the gini index dataframe and convert the state name to its abbreviation\n",
    "for strstate in gini_index_df.iterrows():\n",
    "    # Get the county and state name\n",
    "    currstate = str(strstate[1][3]).split('--')\n",
    "    if (len(currstate) > 1):\n",
    "        currstate = currstate[1]\n",
    "    else:\n",
    "        currstate = currstate[0]\n",
    "    currstate = currstate.strip()\n",
    "\n",
    "    # Search through the dictionary for the state name and change it to its abbreviation\n",
    "    for stateabbrev, state in us_state_abbrev.items():\n",
    "        if currstate == stateabbrev:\n",
    "            newcol.append(state)\n",
    "            \n",
    "# Replace the old county and state name column with the new county and abbreviated state column\n",
    "gini_index_df['state'] = newcol\n",
    "gini_index_df.shape"
   ]
  },
  {
   "cell_type": "code",
   "execution_count": 18,
   "metadata": {},
   "outputs": [
    {
     "name": "stdout",
     "output_type": "stream",
     "text": [
      "25\n"
     ]
    }
   ],
   "source": [
    "outliersgini=[]\n",
    "indexesgini = []\n",
    "threshold=3\n",
    "mean_gini = np.mean(gini_index_df['Estimate; Gini Index'])\n",
    "std_gini =np.std(gini_index_df['Estimate; Gini Index'])\n",
    "\n",
    "for i in gini_index_df.iterrows():\n",
    "    gini = i[1][0]\n",
    "    indexgini = i[0]\n",
    "    z_scoregini= (gini - mean_gini)/std_gini \n",
    "    if np.abs(z_scoregini) > threshold:\n",
    "        outliersgini.append(gini)\n",
    "        indexesgini.append(indexgini)\n",
    "print(len(indexesgini))"
   ]
  },
  {
   "cell_type": "code",
   "execution_count": 19,
   "metadata": {},
   "outputs": [
    {
     "data": {
      "text/plain": [
       "(3548, 4)"
      ]
     },
     "execution_count": 19,
     "metadata": {},
     "output_type": "execute_result"
    }
   ],
   "source": [
    "gini_index_df.drop(index=indexesgini, inplace = True)\n",
    "gini_index_df.shape"
   ]
  },
  {
   "cell_type": "code",
   "execution_count": 20,
   "metadata": {
    "scrolled": true
   },
   "outputs": [
    {
     "name": "stdout",
     "output_type": "stream",
     "text": [
      "109\n"
     ]
    }
   ],
   "source": [
    "outliers=[]\n",
    "indexes = []\n",
    "threshold=3\n",
    "mean_1 = np.mean(df_crime['crime index'])\n",
    "std_1 =np.std(df_crime['crime index'])\n",
    "\n",
    "for i in df_crime.iterrows():\n",
    "    crime = i[1][19]\n",
    "    index = i[0]\n",
    "    z_score= (crime - mean_1)/std_1 \n",
    "    if np.abs(z_score) > threshold:\n",
    "        outliers.append(crime)\n",
    "        indexes.append(index)\n",
    "print(len(indexes))"
   ]
  },
  {
   "cell_type": "code",
   "execution_count": 21,
   "metadata": {},
   "outputs": [
    {
     "data": {
      "text/plain": [
       "(9756, 20)"
      ]
     },
     "execution_count": 21,
     "metadata": {},
     "output_type": "execute_result"
    }
   ],
   "source": [
    "df_crime.drop(index=indexes, inplace = True)\n",
    "df_crime.shape"
   ]
  },
  {
   "cell_type": "code",
   "execution_count": 22,
   "metadata": {},
   "outputs": [
    {
     "data": {
      "text/html": [
       "<div>\n",
       "<style scoped>\n",
       "    .dataframe tbody tr th:only-of-type {\n",
       "        vertical-align: middle;\n",
       "    }\n",
       "\n",
       "    .dataframe tbody tr th {\n",
       "        vertical-align: top;\n",
       "    }\n",
       "\n",
       "    .dataframe thead th {\n",
       "        text-align: right;\n",
       "    }\n",
       "</style>\n",
       "<table border=\"1\" class=\"dataframe\">\n",
       "  <thead>\n",
       "    <tr style=\"text-align: right;\">\n",
       "      <th></th>\n",
       "      <th>Unnamed: 0</th>\n",
       "      <th>city</th>\n",
       "      <th>state</th>\n",
       "      <th>murders</th>\n",
       "      <th>murdersper100k</th>\n",
       "      <th>...</th>\n",
       "      <th>autothefts</th>\n",
       "      <th>autotheftsper100k</th>\n",
       "      <th>arson</th>\n",
       "      <th>arsonper100k</th>\n",
       "      <th>crime index</th>\n",
       "    </tr>\n",
       "  </thead>\n",
       "  <tbody>\n",
       "    <tr>\n",
       "      <th>0</th>\n",
       "      <td>0</td>\n",
       "      <td>Abbeville</td>\n",
       "      <td>Alabama</td>\n",
       "      <td>0.0</td>\n",
       "      <td>0.0</td>\n",
       "      <td>...</td>\n",
       "      <td>6.0</td>\n",
       "      <td>231.7</td>\n",
       "      <td>NaN</td>\n",
       "      <td>NaN</td>\n",
       "      <td>265.3</td>\n",
       "    </tr>\n",
       "    <tr>\n",
       "      <th>1</th>\n",
       "      <td>1</td>\n",
       "      <td>Adamsville</td>\n",
       "      <td>Alabama</td>\n",
       "      <td>1.0</td>\n",
       "      <td>23.1</td>\n",
       "      <td>...</td>\n",
       "      <td>15.0</td>\n",
       "      <td>346.1</td>\n",
       "      <td>NaN</td>\n",
       "      <td>NaN</td>\n",
       "      <td>468.4</td>\n",
       "    </tr>\n",
       "    <tr>\n",
       "      <th>2</th>\n",
       "      <td>2</td>\n",
       "      <td>Addison</td>\n",
       "      <td>Alabama</td>\n",
       "      <td>0.0</td>\n",
       "      <td>0.0</td>\n",
       "      <td>...</td>\n",
       "      <td>2.0</td>\n",
       "      <td>271.0</td>\n",
       "      <td>NaN</td>\n",
       "      <td>NaN</td>\n",
       "      <td>117.9</td>\n",
       "    </tr>\n",
       "    <tr>\n",
       "      <th>3</th>\n",
       "      <td>3</td>\n",
       "      <td>Alabaster</td>\n",
       "      <td>Alabama</td>\n",
       "      <td>0.0</td>\n",
       "      <td>0.0</td>\n",
       "      <td>...</td>\n",
       "      <td>21.0</td>\n",
       "      <td>63.2</td>\n",
       "      <td>NaN</td>\n",
       "      <td>NaN</td>\n",
       "      <td>115.9</td>\n",
       "    </tr>\n",
       "    <tr>\n",
       "      <th>4</th>\n",
       "      <td>4</td>\n",
       "      <td>Albertville</td>\n",
       "      <td>Alabama</td>\n",
       "      <td>0.0</td>\n",
       "      <td>0.0</td>\n",
       "      <td>...</td>\n",
       "      <td>90.0</td>\n",
       "      <td>416.9</td>\n",
       "      <td>NaN</td>\n",
       "      <td>NaN</td>\n",
       "      <td>200.0</td>\n",
       "    </tr>\n",
       "  </tbody>\n",
       "</table>\n",
       "<p>5 rows × 20 columns</p>\n",
       "</div>"
      ],
      "text/plain": [
       "   Unnamed: 0         city    state  murders  murdersper100k     ...       \\\n",
       "0           0    Abbeville  Alabama      0.0             0.0     ...        \n",
       "1           1   Adamsville  Alabama      1.0            23.1     ...        \n",
       "2           2      Addison  Alabama      0.0             0.0     ...        \n",
       "3           3    Alabaster  Alabama      0.0             0.0     ...        \n",
       "4           4  Albertville  Alabama      0.0             0.0     ...        \n",
       "\n",
       "   autothefts  autotheftsper100k  arson  arsonper100k  crime index  \n",
       "0         6.0              231.7    NaN           NaN        265.3  \n",
       "1        15.0              346.1    NaN           NaN        468.4  \n",
       "2         2.0              271.0    NaN           NaN        117.9  \n",
       "3        21.0               63.2    NaN           NaN        115.9  \n",
       "4        90.0              416.9    NaN           NaN        200.0  \n",
       "\n",
       "[5 rows x 20 columns]"
      ]
     },
     "execution_count": 22,
     "metadata": {},
     "output_type": "execute_result"
    }
   ],
   "source": [
    "df_crime.head()"
   ]
  },
  {
   "cell_type": "code",
   "execution_count": 23,
   "metadata": {},
   "outputs": [
    {
     "data": {
      "text/plain": [
       "(2768, 22)"
      ]
     },
     "execution_count": 23,
     "metadata": {},
     "output_type": "execute_result"
    }
   ],
   "source": [
    "# Merge gini index dataframe with crime dataframe using the county_name columns\n",
    "df = pd.merge(gini_index_df, df_crime, on=['city', 'state'])\n",
    "df.shape"
   ]
  },
  {
   "cell_type": "code",
   "execution_count": null,
   "metadata": {},
   "outputs": [],
   "source": []
  },
  {
   "cell_type": "code",
   "execution_count": 25,
   "metadata": {},
   "outputs": [
    {
     "name": "stdout",
     "output_type": "stream",
     "text": [
      "0.00013370632925130914\n",
      "The distribution of crime index for income inequality existing is not approximately normal.\n"
     ]
    }
   ],
   "source": [
    "gini = df['Estimate; Gini Index']\n",
    "# Test to see if the gini index values are normal\n",
    "st_gini, p_gini = normaltest(gini)\n",
    "print(p_gini)\n",
    "if p_gini > 0.01:\n",
    "    print('The distribution of crime index for income inequality existing is approximately normal.')\n",
    "else:\n",
    "    print('The distribution of crime index for income inequality existing is not approximately normal.')"
   ]
  },
  {
   "cell_type": "code",
   "execution_count": 28,
   "metadata": {},
   "outputs": [
    {
     "name": "stdout",
     "output_type": "stream",
     "text": [
      "The distribution of crime index for income inequality existing is approximately normal.\n",
      "Positive Skew\n",
      "0.033601274055703984\n"
     ]
    },
    {
     "data": {
      "image/png": "[encoded data removed]",
      "text/plain": [
       "<Figure size 432x288 with 1 Axes>"
      ]
     },
     "metadata": {
      "needs_background": "light"
     },
     "output_type": "display_data"
    }
   ],
   "source": [
    "transform_gini = []\n",
    "for i in range(len(gini)):\n",
    "    #y = (gini[i]-np.mean(gini))/np.std(gini)\n",
    "    #y = (gini[i]-min(gini))/(max(gini)-min(gini))\n",
    "    y = gini[i]**(1/2)\n",
    "    #y = math.log(gini[i])\n",
    "    transform_gini.append(y)\n",
    "\n",
    "st_gini_transform, p_gini_transform = normaltest(transform_gini)\n",
    "if p_gini_transform > 0.01:\n",
    "    print('The distribution of crime index for income inequality existing is approximately normal.')\n",
    "else:\n",
    "    print('The distribution of crime index for income inequality existing is not approximately normal.')\n",
    "xs = np.arange(min(gini), max(gini), 0.001)\n",
    "fit = stats.norm.pdf(xs, np.mean(gini), np.std(gini))\n",
    "plt.plot(xs, fit, label = 'Normal Dist.', lw = 4)\n",
    "plt.hist(gini, density = True, label = 'Actual Data');\n",
    "plt.title('Gini Index')\n",
    "plt.legend();\n",
    "\n",
    "import statistics\n",
    "if(statistics.median(gini) < statistics.mean(gini)):\n",
    "    print('Positive Skew')\n",
    "else:\n",
    "    print('Negative Skew')\n",
    "print(p_gini_transform)"
   ]
  },
  {
   "cell_type": "markdown",
   "metadata": {},
   "source": [
    "# Data Analysis & Results"
   ]
  },
  {
   "cell_type": "markdown",
   "metadata": {},
   "source": [
    "Include cells that describe the steps in your data analysis."
   ]
  },
  {
   "cell_type": "markdown",
   "metadata": {},
   "source": [
    "### Household Income and Quintile Share Analysis"
   ]
  },
  {
   "cell_type": "markdown",
   "metadata": {},
   "source": [
    "Let's take a quick look at the the crime and quintile share data"
   ]
  },
  {
   "cell_type": "code",
   "execution_count": null,
   "metadata": {},
   "outputs": [],
   "source": [
    "# Create a pair plot with income columns and crime per 100,000 based on population\n",
    "sns.pairplot(crime_income_df, y_vars = ['20th', '40th', 'Median', 'quintile share'],\n",
    "             x_vars = ['murdersper100k', 'rapesper100k', 'robberiesper100k', 'assaultsper100k', 'burglariesper100k', 'theftsper100k', 'autotheftsper100k', 'arsonper100k', 'crime index'])"
   ]
  },
  {
   "cell_type": "markdown",
   "metadata": {},
   "source": [
    "Visually speaking, it seems very clear that poverty connects with crime. Places with wealthier 20th percentiles have low crime, and places with poorer 20th percentiles have more crime. The same is true of the median and 40th percentiles. The relationship with the Quintile Share seems a little more complicated.Recall that a higher quintile share indicates a higher level of inequality. There seems to be a soft trend where the quintile share does relate to level of crime, but it is by no means a firm one."
   ]
  },
  {
   "cell_type": "code",
   "execution_count": null,
   "metadata": {},
   "outputs": [],
   "source": [
    "# Get general statistics for income and crime data\n",
    "(crime_income_df.describe()).round()"
   ]
  },
  {
   "cell_type": "code",
   "execution_count": null,
   "metadata": {},
   "outputs": [],
   "source": [
    "df_crimeper100 = crime_income_df[['quintile share', 'murdersper100k', 'rapesper100k', 'robberiesper100k', 'assaultsper100k',\n",
    "                            'burglariesper100k', 'theftsper100k', 'autotheftsper100k', 'arsonper100k', 'crime index']]\n",
    "df_crimeper100.head()"
   ]
  },
  {
   "cell_type": "code",
   "execution_count": null,
   "metadata": {},
   "outputs": [],
   "source": [
    "corrs_crimeper100 = df_crimeper100.corr()\n",
    "corrs_crimeper100"
   ]
  },
  {
   "cell_type": "markdown",
   "metadata": {},
   "source": [
    "There seems to be a fairly solid correlation here; 0.35 is certainly less correlated than some of the other values we're seeing, but it makes sense that individual types of crime per 100k would be very strongly related with the crime index, since they more or less determine it.\n",
    "   We will now check crime index against different percentiles (specifically 20th, Median, and 95th) of income instead of against the quintile share. This will give us an idea of how poverty in and of itself contributes to the problem."
   ]
  },
  {
   "cell_type": "code",
   "execution_count": null,
   "metadata": {},
   "outputs": [],
   "source": [
    "df_20thper100 = crime_income_df[['20th', 'murdersper100k', 'rapesper100k', 'robberiesper100k', 'assaultsper100k',\n",
    "                            'burglariesper100k', 'theftsper100k', 'autotheftsper100k', 'arsonper100k', 'crime index']]\n",
    "corrs_20thper100 = df_20thper100.corr()\n",
    "corrs_20thper100"
   ]
  },
  {
   "cell_type": "markdown",
   "metadata": {},
   "source": [
    "The negative correlation between the 20th percentile of income against crimes per 100k is a lot stronger than simply against counts of crime. Aside from autothefts at correlation -0.173704, all the other crimes have a correlation between -0.45 and -0.29 with income's 20th percentile."
   ]
  },
  {
   "cell_type": "code",
   "execution_count": null,
   "metadata": {},
   "outputs": [],
   "source": [
    "df_Medper100 = crime_income_df[['Median', 'murdersper100k', 'rapesper100k', 'robberiesper100k', 'assaultsper100k',\n",
    "                            'burglariesper100k', 'theftsper100k', 'autotheftsper100k', 'arsonper100k', 'crime index']]\n",
    "corrs_Medper100 = df_Medper100.corr()\n",
    "corrs_Medper100"
   ]
  },
  {
   "cell_type": "markdown",
   "metadata": {},
   "source": [
    "Once again, similar to what we saw for the 20th percentile, for the Median, there is a stronger negative correlation between income and crime per 100k than between income and just counts of crime. Against crime index, the negative correlation is -0.512659."
   ]
  },
  {
   "cell_type": "code",
   "execution_count": null,
   "metadata": {},
   "outputs": [],
   "source": [
    "df_crimes95th = crime_income_df[['95th', 'murders', 'rapes', 'robberies', 'assaults', 'burglaries',\n",
    "                            'thefts', 'autothefts', 'arson', 'crime index']]\n",
    "corrs_crime95th = df_crimes95th.corr()\n",
    "corrs_crime95th"
   ]
  },
  {
   "cell_type": "code",
   "execution_count": null,
   "metadata": {},
   "outputs": [],
   "source": [
    "df_95thper100 = crime_income_df[['95th', 'murdersper100k', 'rapesper100k', 'robberiesper100k', 'assaultsper100k',\n",
    "                            'burglariesper100k', 'theftsper100k', 'autotheftsper100k', 'arsonper100k', 'crime index']]\n",
    "corrs_95thper100 = df_95thper100.corr()\n",
    "corrs_95thper100"
   ]
  },
  {
   "cell_type": "markdown",
   "metadata": {},
   "source": [
    "We see something different at the 95th percentile of income. When checking against counts of crime, there seems to be a positive correlation, although low, with rapes (0.102029), thefts (0.143141), and autothefts (0.119729) at a stronger correlation with the 95th than other crimes are.\n",
    "\n",
    "Correlation is negative once again though when we check income's 95th percentile against the crimes per 100k in the population. Against the crime index, we have a correlation of -0.354678."
   ]
  },
  {
   "cell_type": "code",
   "execution_count": null,
   "metadata": {},
   "outputs": [],
   "source": [
    "# Create 'ineq_exists' column: '1' if exists, '0' if doesn't\n",
    "# Income inequality defined as >= median of all income inequalities\n",
    "income_ineq_median = crime_income_df[\"quintile share\"].median()\n",
    "\n",
    "ineq_exists = [0]*len(crime_income_df)\n",
    "for i in range(0,len(crime_income_df)):\n",
    "    if crime_income_df[\"quintile share\"][i] >= income_ineq_median:\n",
    "        ineq_exists[i] = 1\n",
    "    else:\n",
    "        ineq_exists[i] = 0\n",
    "crime_income_df['inequality exists'] = ineq_exists  \n",
    "crime_income_df.head()"
   ]
  },
  {
   "cell_type": "code",
   "execution_count": null,
   "metadata": {},
   "outputs": [],
   "source": [
    "# Side-by-side histogram plots of crime index in areas with and without income inequality\n",
    "fig, axes = plt.subplots(1, 2)\n",
    "\n",
    "crime_income_df[crime_income_df[\"inequality exists\"] == 1][\"crime index\"].plot.hist(ax = axes[0], title = 'Income Inequality Exists')\n",
    "crime_income_df[crime_income_df[\"inequality exists\"] == 0][\"crime index\"].plot.hist(ax = axes[1], title = 'Income Inequality Doesn''t Exist')"
   ]
  },
  {
   "cell_type": "code",
   "execution_count": null,
   "metadata": {},
   "outputs": [],
   "source": [
    "crime_ineq = crime_income_df[crime_income_df[\"inequality exists\"] == 1][\"crime index\"].values\n",
    "crime_no_ineq = crime_income_df[crime_income_df[\"inequality exists\"] == 0][\"crime index\"].values\n",
    "\n",
    "st_ineq, p_ineq = normaltest(crime_ineq)\n",
    "st_no_ineq, p_no_ineq = normaltest(crime_no_ineq)\n",
    "\n",
    "is_n_ineq = bool(p_ineq > 0.01)\n",
    "if is_n_ineq == True:\n",
    "    print('The distribution of crime index for income inequality existing is approximately normal.')\n",
    "else:\n",
    "    print('The distribution of crime index for income inequality existing is not approximately normal.')\n",
    "    \n",
    "is_n_no_ineq = bool(p_no_ineq > 0.01)\n",
    "if is_n_no_ineq == True:\n",
    "    print('The distribution of crime index for income inequality not existing is approximately normal.')\n",
    "else:\n",
    "    print('The distribution of crime index for income inequality not existing is not approximately normal.')\n"
   ]
  },
  {
   "cell_type": "markdown",
   "metadata": {},
   "source": [
    "Our data isn't normal, so it's not possible to run certain kinds of tests on it. Let's try to normalize our data really quick. We are using the normalize funtion from sklearn, and we are also doing a cuberoot transformation."
   ]
  },
  {
   "cell_type": "code",
   "execution_count": null,
   "metadata": {},
   "outputs": [],
   "source": [
    "crime_ineq = pd.Series(crime_ineq)\n",
    "\n",
    "crime_no_ineq = pd.Series(crime_no_ineq)\n",
    "\n",
    "crime_ineq =    pd.DataFrame(preprocessing.normalize([crime_ineq],norm='max'))\n",
    "crime_ineq = crime_ineq.transpose()\n",
    "crime_ineq = pd.DataFrame(np.cbrt(crime_ineq))\n",
    "\n",
    "crime_no_ineq = pd.DataFrame(preprocessing.normalize([crime_no_ineq],norm='max'))\n",
    "crime_no_ineq = crime_no_ineq.transpose()\n",
    "crime_no_ineq = pd.DataFrame(np.cbrt(crime_no_ineq))\n",
    "\n",
    "fig, axes = plt.subplots(1, 2)\n",
    "\n",
    "crime_ineq.plot.hist(ax = axes[0], title = 'Income Inequality Exists')\n",
    "crime_no_ineq.plot.hist(ax = axes[1], title = 'Income Inequality Doesn''t Exist')"
   ]
  },
  {
   "cell_type": "code",
   "execution_count": null,
   "metadata": {},
   "outputs": [],
   "source": [
    "# Check for normality again\n",
    "st_ineq, p_ineq = normaltest(crime_ineq)\n",
    "st_no_ineq, p_no_ineq = normaltest(crime_no_ineq)\n",
    "\n",
    "is_n_ineq = bool(p_ineq > 0.01)\n",
    "if is_n_ineq == True:\n",
    "    print('The distribution of crime index for income inequality existing is approximately normal.')\n",
    "else:\n",
    "    print('The distribution of crime index for income inequality existing is not approximately normal.')\n",
    "    \n",
    "is_n_no_ineq = bool(p_no_ineq > 0.01)\n",
    "if is_n_no_ineq == True:\n",
    "    print('The distribution of crime index for income inequality not existing is approximately normal.')\n",
    "else:\n",
    "    print('The distribution of crime index for income inequality not existing is not approximately normal.')\n",
    "    \n",
    "print(p_ineq,p_no_ineq)"
   ]
  },
  {
   "cell_type": "markdown",
   "metadata": {},
   "source": [
    "Success! Now that we have approximately normal distributions, we can do some more testing."
   ]
  },
  {
   "cell_type": "code",
   "execution_count": null,
   "metadata": {},
   "outputs": [],
   "source": [
    "# Check for significant difference\n",
    "t_val, p_val = ttest_ind(crime_ineq, crime_no_ineq)\n",
    "\n",
    "if p_val < 0.01:\n",
    "    print('There is a significant difference.')\n",
    "else:\n",
    "    print('There is NOT a significant difference.')\n"
   ]
  },
  {
   "cell_type": "markdown",
   "metadata": {},
   "source": [
    "After performing a 2-sample t-test, we can conclude that there is indeed a significant difference in crime index between areas where income inequality exists and areas where income inequality doesn't exist. But maybe this effect is due to a confound, namely poverty in and of itself so we should look at poverty values."
   ]
  },
  {
   "cell_type": "code",
   "execution_count": null,
   "metadata": {},
   "outputs": [],
   "source": [
    "# Create 'poverty_exists' column: '1' if exists, '0' if doesn't\n",
    "# poverty defined as 20th percentile income < mean of all 20th percentile incomes\n",
    "mean20th = crime_income_df[\"20th\"].mean()\n",
    "\n",
    "pov_exists = [0]*len(crime_income_df)\n",
    "for i in range(0,len(crime_income_df)):\n",
    "    if crime_income_df[\"20th\"][i] < mean20th:\n",
    "        pov_exists[i] = 0\n",
    "    else:\n",
    "        pov_exists[i] = 1\n",
    "crime_income_df['poverty exists'] = pov_exists  \n",
    "crime_income_df.head()"
   ]
  },
  {
   "cell_type": "code",
   "execution_count": null,
   "metadata": {},
   "outputs": [],
   "source": [
    "print(len(crime_income_df[crime_income_df['poverty exists'] == 0]))\n",
    "print(len(crime_income_df[crime_income_df['poverty exists'] == 1]))"
   ]
  },
  {
   "cell_type": "markdown",
   "metadata": {},
   "source": [
    "As we can see, based on our defintion of poverty, 561 counties do not experience poverty while 363 counties do.\n",
    "\n",
    "Using `value_counts` from pandas, extract the number of 'poverty exists' and 'poverty doesn't exist', separately for 'income inequality exists' and 'income inequality doesn't exist'. \n",
    "\n",
    "To do so:\n",
    "\n",
    "- select from `crime_income_df` income inequality, 0 and 1 separately, extract the poverty exists column, and use the `value_counts` method.\n",
    "- Save the counts for each 'poverty does/doesn't exist' for 'income inequality exists' to a variable called `pov_ineq`\n",
    "- Save the counts for each 'poverty does/doesn't exist' for 'income inequality doesn't exist' to a variable called `pov_no_ineq`\n"
   ]
  },
  {
   "cell_type": "code",
   "execution_count": null,
   "metadata": {},
   "outputs": [],
   "source": [
    "pov_ineq = crime_income_df[crime_income_df['inequality exists'] == 1]['poverty exists'].value_counts()\n",
    "pov_no_ineq = crime_income_df[crime_income_df['inequality exists'] == 0]['poverty exists'].value_counts()\n",
    "print(pov_ineq)\n",
    "print(pov_no_ineq)"
   ]
  },
  {
   "cell_type": "markdown",
   "metadata": {},
   "source": [
    "What we saw from above is that of all the areas WITH income inequality, 409 counties do not experience poverty while 53 do. Meanwhile in all the areas WITHOUT income inequality, 310 counties DO experience poverty while 152 do not. \n",
    "\n",
    "Let's find the ratio of poverty existing, the proportion of counties with poverty, in 'income inequality exists' and 'income inequality doesn't exist'. This will be value between 0.0 and 1.0, calculated as #(pov == 1) / (#(pov == 0) + #(pov == 1) - done separately for income inequality existing and not existing.\n",
    "\n",
    "We will use the `pov_ineq` and `pov_no_ineq` variables to calculate these.\n",
    "\n",
    "Save the ratio of poverty existing in 'inequality exists' to a variable `r_ineq`.\n",
    "\n",
    "Save the ratio of poverty existing in 'inequality doesn't exist' to a variable `r_no_ineq`.\n",
    "\n",
    "Note: keep these numbers as ratios (they should be decimal numbers, less than 1).\n"
   ]
  },
  {
   "cell_type": "code",
   "execution_count": null,
   "metadata": {},
   "outputs": [],
   "source": [
    "r_ineq = pov_ineq[1]/(pov_ineq[0] + pov_ineq[1])\n",
    "r_no_ineq = pov_no_ineq[1]/(pov_no_ineq[0] + pov_no_ineq[1])\n",
    "\n",
    "print(r_ineq)\n",
    "print(r_no_ineq)"
   ]
  },
  {
   "cell_type": "markdown",
   "metadata": {},
   "source": [
    "The ratio of poverty existing in the two categories appear very different, but we will use a chi-squared test to see whether the difference in poverty-ratio between 'income inequality does/doesn't exist' is significantly different."
   ]
  },
  {
   "cell_type": "code",
   "execution_count": null,
   "metadata": {},
   "outputs": [],
   "source": [
    "chisq, p_val_chi = stats.chisquare(np.array([pov_ineq.values, pov_no_ineq.values]), axis=None)\n",
    "\n",
    "if p_val_chi < 0.01:\n",
    "    print('There is a significant difference in ratios!')"
   ]
  },
  {
   "cell_type": "markdown",
   "metadata": {},
   "source": [
    "We will now take a look at these comparisons in pivot tables. \n",
    "\n",
    "We'll use the pandas `pivot_table` method to create pivot table and assign it to a variable `pv`.\n",
    "\n",
    "We'll set the values as 'crime index', and the indices as 'poverty exists' and 'inequality exists' in the pivot table."
   ]
  },
  {
   "cell_type": "code",
   "execution_count": null,
   "metadata": {},
   "outputs": [],
   "source": [
    "pv = pd.pivot_table(crime_income_df, values='crime index', index=['poverty exists', 'inequality exists'])\n",
    "\n",
    "pv"
   ]
  },
  {
   "cell_type": "markdown",
   "metadata": {},
   "source": [
    "Short recap:\n",
    "- Our initial hypothesis suggested there is a significant difference between crime index of counties with and without income inequality. \n",
    "- However, further analyses suggested there may be a confounding variable, as there is also a significantly different poverty balance between counties with and without income inequality. \n",
    "\n",
    "Checking the average crime index, per 'inequality exists', split up by 'poverty exists', suggests there may not be a difference between 'inequality exists', other than what is explained by 'poverty exists'. \n",
    "\n",
    "Now we want to statistically ask this question: is there still a difference in crime index between 'inequality exists', when controlling for differences in 'poverty exists'? \n",
    "\n",
    "We will need to make some linear models, using Ordinary Least Squares (OLS).\n",
    "\n",
    "We will do this using the method that is outlined in the 'LinearModels' Tutorial, using patsy, and statsmodels. \n",
    "- Create design matrices with `patsy.dmatrices`\n",
    "- Iniliaize an OLS model with `sm.OLS`\n",
    "- Fit the OLS model\n",
    "- Check the summary for results. "
   ]
  },
  {
   "cell_type": "code",
   "execution_count": null,
   "metadata": {},
   "outputs": [],
   "source": [
    "# rename some columns so that dmatrices() function can be used in next step\n",
    "crime_income_df.rename(columns={'crime index':'crimeindex',\n",
    "                                   'inequality exists':'inequalityexists', \n",
    "                                   'poverty exists':'povertyexists',\n",
    "                                    'quintile share':'quintileshare'}, inplace=True)\n",
    "crime_income_df.head()"
   ]
  },
  {
   "cell_type": "code",
   "execution_count": null,
   "metadata": {},
   "outputs": [],
   "source": [
    "outcome_1, predictors_1 = patsy.dmatrices('crimeindex ~ inequalityexists', crime_income_df)\n",
    "mod_1 = sm.OLS(outcome_1, predictors_1)\n",
    "res_1 = mod_1.fit()\n",
    "\n",
    "print(res_1.summary())"
   ]
  },
  {
   "cell_type": "markdown",
   "metadata": {},
   "source": [
    "Based on the model we ran above (using alpha value of 0.01), we will check if income inequality significantly predicts crime index."
   ]
  },
  {
   "cell_type": "code",
   "execution_count": null,
   "metadata": {},
   "outputs": [],
   "source": [
    "lm_1 = bool(res_1.pvalues[1] < 0.01)\n",
    "if lm_1 == True:\n",
    "    print(\"Income inequality significantly predicts crime index.\")\n",
    "else:\n",
    "    print(\"Income inequality doesn't significantly predict crime index.\")    "
   ]
  },
  {
   "cell_type": "code",
   "execution_count": null,
   "metadata": {},
   "outputs": [],
   "source": [
    "outcome_2, predictors_2 = patsy.dmatrices('crimeindex ~ inequalityexists + povertyexists', crime_income_df)\n",
    "mod_2 = sm.OLS(outcome_2, predictors_2)\n",
    "res_2 = mod_2.fit()\n",
    "print(res_2.summary())"
   ]
  },
  {
   "cell_type": "code",
   "execution_count": null,
   "metadata": {},
   "outputs": [],
   "source": [
    "lm_2 = bool(res_1.pvalues[1] < 0.01)\n",
    "if lm_1 == True:\n",
    "    print(\"Income inequality significantly predicts crime index.\")\n",
    "else:\n",
    "    print(\"Income inequality doesn't significantly predict crime index.\")    "
   ]
  },
  {
   "cell_type": "code",
   "execution_count": null,
   "metadata": {},
   "outputs": [],
   "source": [
    "ans = (lm_1 == True and lm_2 == True)\n",
    "if ans == True:\n",
    "    print(\"Counties with income inequality and counties without income inequality have a systematically different crime index.\")\n",
    "else:\n",
    "    print(\"Counties with income inequality and counties without income inequality don't have a systematically different crime index.\")\n"
   ]
  },
  {
   "cell_type": "code",
   "execution_count": null,
   "metadata": {},
   "outputs": [],
   "source": [
    "# Linear regression using the continuous values for crime index and quintile share\n",
    "outcome_3, predictors_3 = patsy.dmatrices('crimeindex ~ quintileshare', crime_income_df)\n",
    "mod_3 = sm.OLS(outcome_3, predictors_3)\n",
    "res_3 = mod_3.fit()\n",
    "lm_3 = bool(res_3.pvalues[1] < 0.01)\n",
    "if lm_3 == True:\n",
    "    print(\"Quintile Share significantly predicts crime index.\\n\")\n",
    "else:\n",
    "    print(\"Quintile Share doesn't significantly predict crime index.\\n\") \n",
    "\n",
    "print(res_3.summary())"
   ]
  },
  {
   "cell_type": "code",
   "execution_count": null,
   "metadata": {},
   "outputs": [],
   "source": [
    "# Plot the orginal data (as before)\n",
    "plt.scatter(crime_income_df['quintileshare'], crime_income_df['crimeindex'], alpha=0.3, label='Data', s=100);\n",
    "\n",
    "# Generate and plot the model fit line\n",
    "xs = np.linspace(crime_income_df['quintileshare'].min(), crime_income_df['quintileshare'].max())\n",
    "ys = (57.9963 * xs) - 7.3352\n",
    "plt.plot(xs, ys, '--k', linewidth=4, label='Model')\n",
    "\n",
    "plt.title('Quintile share and crime index linear regression')\n",
    "plt.xlabel('quintile share')\n",
    "plt.ylabel('crime index')\n",
    "plt.legend();\n",
    "plt.show()"
   ]
  },
  {
   "cell_type": "code",
   "execution_count": null,
   "metadata": {},
   "outputs": [],
   "source": [
    "df_ineq_exists = pd.DataFrame(crime_income_df[crime_income_df['inequalityexists'] == 1])\n",
    "df_no_ineq_exists = pd.DataFrame(crime_income_df[crime_income_df['inequalityexists'] == 0])\n",
    "\n",
    "df_ineq_ineqcrime = df_ineq_exists[['quintileshare', 'crimeindex']]\n",
    "df_no_ineq_ineqcrime = df_no_ineq_exists[['quintileshare', 'crimeindex']]\n",
    "\n",
    "corrs_ineq_ineqcrime = df_ineq_ineqcrime.corr()\n",
    "corrs_no_ineq_ineqcrime = df_no_ineq_ineqcrime.corr()\n",
    "\n",
    "corrs_ineq_ineqcrime"
   ]
  },
  {
   "cell_type": "code",
   "execution_count": null,
   "metadata": {},
   "outputs": [],
   "source": [
    "corrs_no_ineq_ineqcrime"
   ]
  },
  {
   "cell_type": "markdown",
   "metadata": {},
   "source": [
    "There is a weak positive correlation between quintile share and crime index"
   ]
  },
  {
   "cell_type": "markdown",
   "metadata": {},
   "source": [
    "### Gini Index Analysis"
   ]
  },
  {
   "cell_type": "code",
   "execution_count": null,
   "metadata": {},
   "outputs": [],
   "source": []
  },
  {
   "cell_type": "markdown",
   "metadata": {},
   "source": [
    "# Ethics & Privacy"
   ]
  },
  {
   "cell_type": "markdown",
   "metadata": {},
   "source": [
    "For common problems among ethics and privacy when collecting data, many did not apply to our study, such as informed consent and collection bias, due to fact that we did not use human subjects for our projects and are using public & government datasets. However, ethical issues we may need to consider would include the disclosure of data of minors, for example the perpetrator of a juvenile crime. Perhaps we can use data where crimes of minors are included as long as identities are anonymous or unknown. At first, we considered focusing our project solely on the crimes performed by persons of legal age, thus removing information about minors from our datasets. All of the data sets we have looked at right now are public datasets, so we should be fine as far as permissions are concerned. Any identifying information have already been redacted to maintain confidentiality. If we encounter any data that seems to be a breach of confidentiality, we will follow the Safe Harbour method to remove any personally identifiable information. Using a default ethics checklist to cross-reference possible issues helped us think more abbout who will be affected by our research and what ways we can use to ensure prevention in harming others.\n",
    "\n",
    "In terms of bias, there could be bias in the crime reporting and data that we are looking at since it is collected by humans. We also have to be aware of the bias and cultural issues around reporting certain crimes such as rape or hate crimes.\n",
    "\n",
    "For other ethical issues to consider is honest representation of the data and consider if the data we've grabbed from public sources (Kaggle) and the government are always reliable. From checking the source on Kaggle we've implemented, there were listed sources from this scraped code. For crime, it was ICPSR of UMich, and as it is an established university, we're making the assumption that the data is reliable and permission was gathered. The other source is from the US Census Bureau, a public government source.\n",
    "\n",
    "In terms of whether our research can indirectly harm others and serve as a source for others to profit off of, it's possible that there's always a chance to represent a source incorrectly. Our analysis results could also be used for laws and policies that negatively affect people. However, what we'll do to at least control some of this possibility is to not make outlandish claims from our data and stick with a factual conclusion truly based on what the data is showing. \n",
    "\n",
    "References:\n",
    "- 1) Data Science Ethics Checklist: http://deon.drivendata.org/#default-checklist\n",
    "- 2) Institute for Social Research: https://www.icpsr.umich.edu/icpsrweb/\n",
    "- 3) U.S. Census Bureau: https://census.gov/"
   ]
  },
  {
   "cell_type": "markdown",
   "metadata": {},
   "source": [
    "# Conclusion & Discussion"
   ]
  },
  {
   "cell_type": "markdown",
   "metadata": {},
   "source": [
    "*Fill in your discussion information here*"
   ]
  }
 ],
 "metadata": {
  "kernelspec": {
   "display_name": "Python 3",
   "language": "python",
   "name": "python3"
  },
  "language_info": {
   "codemirror_mode": {
    "name": "ipython",
    "version": 3
   },
   "file_extension": ".py",
   "mimetype": "text/x-python",
   "name": "python",
   "nbconvert_exporter": "python",
   "pygments_lexer": "ipython3",
   "version": "3.7.1"
  }
 },
 "nbformat": 4,
 "nbformat_minor": 2
}
