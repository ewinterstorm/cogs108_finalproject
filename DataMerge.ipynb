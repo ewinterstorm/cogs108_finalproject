{
 "cells": [
  {
   "cell_type": "code",
   "execution_count": null,
   "metadata": {},
   "outputs": [],
   "source": [
    "# Import libraries\n",
    "import pandas as pd\n",
    "import numpy as np\n",
    "import re\n",
    "\n",
    "# Don't display too many rows/cols of DataFrames\n",
    "pd.options.display.max_rows = 7\n",
    "pd.options.display.max_columns = 10"
   ]
  },
  {
   "cell_type": "code",
   "execution_count": 1,
   "metadata": {},
   "outputs": [
    {
     "ename": "NameError",
     "evalue": "name 'pd' is not defined",
     "output_type": "error",
     "traceback": [
      "\u001b[0;31m---------------------------------------------------------------------------\u001b[0m",
      "\u001b[0;31mNameError\u001b[0m                                 Traceback (most recent call last)",
      "\u001b[0;32m<ipython-input-1-7017683ddacd>\u001b[0m in \u001b[0;36m<module>\u001b[0;34m\u001b[0m\n\u001b[1;32m      1\u001b[0m \u001b[0;31m# Load income data\u001b[0m\u001b[0;34m\u001b[0m\u001b[0;34m\u001b[0m\u001b[0;34m\u001b[0m\u001b[0m\n\u001b[0;32m----> 2\u001b[0;31m \u001b[0mdf_income\u001b[0m \u001b[0;34m=\u001b[0m \u001b[0mpd\u001b[0m\u001b[0;34m.\u001b[0m\u001b[0mread_csv\u001b[0m\u001b[0;34m(\u001b[0m\u001b[0;34m'income_crime_with_percentages.csv'\u001b[0m\u001b[0;34m)\u001b[0m\u001b[0;34m\u001b[0m\u001b[0;34m\u001b[0m\u001b[0m\n\u001b[0m\u001b[1;32m      3\u001b[0m \u001b[0mdf_income\u001b[0m\u001b[0;34m\u001b[0m\u001b[0;34m\u001b[0m\u001b[0m\n",
      "\u001b[0;31mNameError\u001b[0m: name 'pd' is not defined"
     ]
    }
   ],
   "source": [
    "# Load income data\n",
    "df_county_crime = pd.read_csv('income_crime_with_percentages.csv')\n",
    "df_county_crime"
   ]
  },
  {
   "cell_type": "code",
   "execution_count": 1,
   "metadata": {},
   "outputs": [
    {
     "ename": "NameError",
     "evalue": "name 'pd' is not defined",
     "output_type": "error",
     "traceback": [
      "\u001b[0;31m---------------------------------------------------------------------------\u001b[0m",
      "\u001b[0;31mNameError\u001b[0m                                 Traceback (most recent call last)",
      "\u001b[0;32m<ipython-input-1-8849d7ce8844>\u001b[0m in \u001b[0;36m<module>\u001b[0;34m\u001b[0m\n\u001b[1;32m      1\u001b[0m \u001b[0;31m# Load county income data\u001b[0m\u001b[0;34m\u001b[0m\u001b[0;34m\u001b[0m\u001b[0;34m\u001b[0m\u001b[0m\n\u001b[0;32m----> 2\u001b[0;31m \u001b[0mdf_county_income\u001b[0m \u001b[0;34m=\u001b[0m \u001b[0mpd\u001b[0m\u001b[0;34m.\u001b[0m\u001b[0mread_csv\u001b[0m\u001b[0;34m(\u001b[0m\u001b[0;34m'income_county.csv'\u001b[0m\u001b[0;34m)\u001b[0m\u001b[0;34m\u001b[0m\u001b[0;34m\u001b[0m\u001b[0m\n\u001b[0m\u001b[1;32m      3\u001b[0m \u001b[0mdf_county_income\u001b[0m\u001b[0;34m\u001b[0m\u001b[0;34m\u001b[0m\u001b[0m\n",
      "\u001b[0;31mNameError\u001b[0m: name 'pd' is not defined"
     ]
    }
   ],
   "source": [
    "# Load county income data\n",
    "df_county_income = pd.read_csv('income_county.csv')\n",
    "df_county_income"
   ]
  },
  {
   "cell_type": "code",
   "execution_count": null,
   "metadata": {},
   "outputs": [],
   "source": [
    "# Extract county and state from url\n",
    "df_county_income['countystate'] = df_income['place'].str.extract(\"place/(.*)/\")\n",
    "df_county_income['countystate']"
   ]
  },
  {
   "cell_type": "code",
   "execution_count": null,
   "metadata": {},
   "outputs": [],
   "source": [
    "# Extract state\n",
    "df_county_income['state'] = df_income['countystate'].str.extract(\"(.*)/\")\n",
    "df_county_income['state']\n"
   ]
  },
  {
   "cell_type": "code",
   "execution_count": null,
   "metadata": {},
   "outputs": [],
   "source": [
    "# Extract city\n",
    "df_county_income['county'] = df_income['countystate'].str.extract(\"/(.*)\")\n",
    "df_county_income['couny']"
   ]
  },
  {
   "cell_type": "code",
   "execution_count": null,
   "metadata": {},
   "outputs": [],
   "source": [
    "# Remove place columns\n",
    "df_county_income = df_income.drop(['place', 'citystate'], axis=1)\n",
    "df_county_income"
   ]
  },
  {
   "cell_type": "code",
   "execution_count": null,
   "metadata": {},
   "outputs": [],
   "source": [
    "# Reorder columns\n",
    "df_county_income = df_county_income[['Unnamed: 0', 'city', 'state', 'percentile', 'income', 'percent']]\n",
    "df_county_income"
   ]
  },
  {
   "cell_type": "code",
   "execution_count": null,
   "metadata": {},
   "outputs": [],
   "source": [
    "# Remove zeroes in income and percent columns\n",
    "df_county_income['income'] = df_income['income'].replace({'0 ':''}, regex = True)\n",
    "df_county_income['percent'] = df_income['percent'].replace({'0 ':''}, regex = True)\n",
    "df_county_income"
   ]
  },
  {
   "cell_type": "code",
   "execution_count": null,
   "metadata": {},
   "outputs": [],
   "source": [
    "# Convert income to int\n",
    "pd.options.mode.chained_assignment = None \n",
    "for i in range(0, len(df_income)):\n",
    "    incomeConvert = df_county_income['income'][i]\n",
    "    incomeConvert = incomeConvert[:(incomeConvert.find(\".\"))]\n",
    "    incomeConvert = incomeConvert.replace(',', \"\")\n",
    "    incomeConvert = re.sub(r\"^\\s+\", \"\", incomeConvert, flags=re.UNICODE)\n",
    "    \n",
    "    incomeConvert = int(float(incomeConvert))\n",
    "    df_income['income'][i] = incomeConvert\n",
    "    #print(incomeConvert)    "
   ]
  },
  {
   "cell_type": "code",
   "execution_count": null,
   "metadata": {},
   "outputs": [],
   "source": [
    "# Drop 'percent' column\n",
    "# Make percentile columns 20th, 40th, Median, 60th, 80th, 95th\n",
    "df_percentile = df_county_income.pivot_table(index=[\"state\",\"city\"], columns='percentile', values=['income'], aggfunc='first')\n",
    "df_percentile.columns = df_percentile.columns.droplevel()\n",
    "df_percentile = df_percentile.reset_index()\n",
    "df_percentile.columns=df_percentile.columns.tolist()\n",
    "df_percentile = df_percentile[['city','state','20th','40th','Median','60th','80th','95th']]\n",
    "df_percentile"
   ]
  },
  {
   "cell_type": "code",
   "execution_count": null,
   "metadata": {},
   "outputs": [],
   "source": [
    "# Merge income percentile dataframe with crime dataframe\n",
    "df = pd.merge(df_percentile, df_county_crime, on=['city','state'])\n",
    "df = df.drop(['Unnamed: 0'], axis=1)\n",
    "df"
   ]
  },
  {
   "cell_type": "code",
   "execution_count": null,
   "metadata": {},
   "outputs": [],
   "source": [
    "# Create inequality column: 95th minus 20th\n",
    "inequality = [0]*len(df)\n",
    "for i in range(0,len(df)):\n",
    "    inequality[i] = df['95th'][i] - df['20th'][i]\n",
    "\n",
    "df['income inequality'] = inequality  \n",
    "df"
   ]
  },
  {
   "cell_type": "code",
   "execution_count": null,
   "metadata": {},
   "outputs": [],
   "source": [
    "df.to_csv('income_county_crime.csv')"
   ]
  }
 ],
 "metadata": {
  "kernelspec": {
   "display_name": "Python 3",
   "language": "python",
   "name": "python3"
  }
 },
 "nbformat": 4,
 "nbformat_minor": 2
}
